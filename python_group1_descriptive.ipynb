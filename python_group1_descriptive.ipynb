{
 "cells": [
  {
   "cell_type": "markdown",
   "metadata": {
    "colab_type": "text",
    "id": "keYq9IpfrWOH"
   },
   "source": [
    "# Descriptive Analytics Section"
   ]
  },
  {
   "cell_type": "code",
   "execution_count": 1,
   "metadata": {
    "cellView": "both",
    "colab": {},
    "colab_type": "code",
    "id": "X1eU7qbYUSwF"
   },
   "outputs": [],
   "source": [
    "#import pandas modules\n",
    "import pandas as pd\n",
    "import numpy as np  \n",
    "import seaborn as sns \n",
    "import matplotlib.pyplot as plt  \n",
    "import matplotlib.pylab as mp\n",
    "import matplotlib.ticker as mtick\n",
    "from matplotlib.ticker import FormatStrFormatter\n",
    "from sklearn.model_selection import train_test_split \n",
    "from sklearn.linear_model import LinearRegression\n",
    "from sklearn.feature_selection import f_regression\n",
    "from sklearn import metrics\n",
    "from sklearn.metrics import r2_score\n",
    "%matplotlib inline"
   ]
  },
  {
   "cell_type": "code",
   "execution_count": 2,
   "metadata": {
    "colab": {
     "base_uri": "https://localhost:8080/",
     "height": 224
    },
    "colab_type": "code",
    "id": "LNYyWN_Ultr7",
    "outputId": "572fab79-169f-4367-eba1-4f6072a35bae",
    "scrolled": true
   },
   "outputs": [
    {
     "name": "stdout",
     "output_type": "stream",
     "text": [
      "Requirement already satisfied: folium in /Applications/anaconda3/lib/python3.7/site-packages (0.11.0)\n",
      "Requirement already satisfied: jinja2>=2.9 in /Applications/anaconda3/lib/python3.7/site-packages (from folium) (2.11.1)\n",
      "Requirement already satisfied: branca>=0.3.0 in /Applications/anaconda3/lib/python3.7/site-packages (from folium) (0.4.1)\n",
      "Requirement already satisfied: numpy in /Applications/anaconda3/lib/python3.7/site-packages (from folium) (1.18.1)\n",
      "Requirement already satisfied: requests in /Applications/anaconda3/lib/python3.7/site-packages (from folium) (2.22.0)\n",
      "Requirement already satisfied: MarkupSafe>=0.23 in /Applications/anaconda3/lib/python3.7/site-packages (from jinja2>=2.9->folium) (1.1.1)\n",
      "Requirement already satisfied: certifi>=2017.4.17 in /Applications/anaconda3/lib/python3.7/site-packages (from requests->folium) (2019.11.28)\n",
      "Requirement already satisfied: idna<2.9,>=2.5 in /Applications/anaconda3/lib/python3.7/site-packages (from requests->folium) (2.8)\n",
      "Requirement already satisfied: urllib3!=1.25.0,!=1.25.1,<1.26,>=1.21.1 in /Applications/anaconda3/lib/python3.7/site-packages (from requests->folium) (1.25.8)\n",
      "Requirement already satisfied: chardet<3.1.0,>=3.0.2 in /Applications/anaconda3/lib/python3.7/site-packages (from requests->folium) (3.0.4)\n",
      "Note: you may need to restart the kernel to use updated packages.\n"
     ]
    }
   ],
   "source": [
    "pip install folium"
   ]
  },
  {
   "cell_type": "code",
   "execution_count": 3,
   "metadata": {
    "cellView": "both",
    "colab": {},
    "colab_type": "code",
    "id": "WvJo91vShzgH"
   },
   "outputs": [
    {
     "ename": "FileNotFoundError",
     "evalue": "[Errno 2] No such file or directory: 'house_sales_project.xlsx'",
     "output_type": "error",
     "traceback": [
      "\u001b[0;31m---------------------------------------------------------------------------\u001b[0m",
      "\u001b[0;31mFileNotFoundError\u001b[0m                         Traceback (most recent call last)",
      "\u001b[0;32m<ipython-input-3-100bd1977dd8>\u001b[0m in \u001b[0;36m<module>\u001b[0;34m\u001b[0m\n\u001b[0;32m----> 1\u001b[0;31m \u001b[0mhouse_sales\u001b[0m \u001b[0;34m=\u001b[0m \u001b[0mpd\u001b[0m\u001b[0;34m.\u001b[0m\u001b[0mread_excel\u001b[0m\u001b[0;34m(\u001b[0m\u001b[0;34m'house_sales_project.xlsx'\u001b[0m\u001b[0;34m)\u001b[0m\u001b[0;34m\u001b[0m\u001b[0;34m\u001b[0m\u001b[0m\n\u001b[0m",
      "\u001b[0;32m/Applications/anaconda3/lib/python3.7/site-packages/pandas/io/excel/_base.py\u001b[0m in \u001b[0;36mread_excel\u001b[0;34m(io, sheet_name, header, names, index_col, usecols, squeeze, dtype, engine, converters, true_values, false_values, skiprows, nrows, na_values, keep_default_na, verbose, parse_dates, date_parser, thousands, comment, skipfooter, convert_float, mangle_dupe_cols, **kwds)\u001b[0m\n\u001b[1;32m    302\u001b[0m \u001b[0;34m\u001b[0m\u001b[0m\n\u001b[1;32m    303\u001b[0m     \u001b[0;32mif\u001b[0m \u001b[0;32mnot\u001b[0m \u001b[0misinstance\u001b[0m\u001b[0;34m(\u001b[0m\u001b[0mio\u001b[0m\u001b[0;34m,\u001b[0m \u001b[0mExcelFile\u001b[0m\u001b[0;34m)\u001b[0m\u001b[0;34m:\u001b[0m\u001b[0;34m\u001b[0m\u001b[0;34m\u001b[0m\u001b[0m\n\u001b[0;32m--> 304\u001b[0;31m         \u001b[0mio\u001b[0m \u001b[0;34m=\u001b[0m \u001b[0mExcelFile\u001b[0m\u001b[0;34m(\u001b[0m\u001b[0mio\u001b[0m\u001b[0;34m,\u001b[0m \u001b[0mengine\u001b[0m\u001b[0;34m=\u001b[0m\u001b[0mengine\u001b[0m\u001b[0;34m)\u001b[0m\u001b[0;34m\u001b[0m\u001b[0;34m\u001b[0m\u001b[0m\n\u001b[0m\u001b[1;32m    305\u001b[0m     \u001b[0;32melif\u001b[0m \u001b[0mengine\u001b[0m \u001b[0;32mand\u001b[0m \u001b[0mengine\u001b[0m \u001b[0;34m!=\u001b[0m \u001b[0mio\u001b[0m\u001b[0;34m.\u001b[0m\u001b[0mengine\u001b[0m\u001b[0;34m:\u001b[0m\u001b[0;34m\u001b[0m\u001b[0;34m\u001b[0m\u001b[0m\n\u001b[1;32m    306\u001b[0m         raise ValueError(\n",
      "\u001b[0;32m/Applications/anaconda3/lib/python3.7/site-packages/pandas/io/excel/_base.py\u001b[0m in \u001b[0;36m__init__\u001b[0;34m(self, io, engine)\u001b[0m\n\u001b[1;32m    819\u001b[0m         \u001b[0mself\u001b[0m\u001b[0;34m.\u001b[0m\u001b[0m_io\u001b[0m \u001b[0;34m=\u001b[0m \u001b[0mstringify_path\u001b[0m\u001b[0;34m(\u001b[0m\u001b[0mio\u001b[0m\u001b[0;34m)\u001b[0m\u001b[0;34m\u001b[0m\u001b[0;34m\u001b[0m\u001b[0m\n\u001b[1;32m    820\u001b[0m \u001b[0;34m\u001b[0m\u001b[0m\n\u001b[0;32m--> 821\u001b[0;31m         \u001b[0mself\u001b[0m\u001b[0;34m.\u001b[0m\u001b[0m_reader\u001b[0m \u001b[0;34m=\u001b[0m \u001b[0mself\u001b[0m\u001b[0;34m.\u001b[0m\u001b[0m_engines\u001b[0m\u001b[0;34m[\u001b[0m\u001b[0mengine\u001b[0m\u001b[0;34m]\u001b[0m\u001b[0;34m(\u001b[0m\u001b[0mself\u001b[0m\u001b[0;34m.\u001b[0m\u001b[0m_io\u001b[0m\u001b[0;34m)\u001b[0m\u001b[0;34m\u001b[0m\u001b[0;34m\u001b[0m\u001b[0m\n\u001b[0m\u001b[1;32m    822\u001b[0m \u001b[0;34m\u001b[0m\u001b[0m\n\u001b[1;32m    823\u001b[0m     \u001b[0;32mdef\u001b[0m \u001b[0m__fspath__\u001b[0m\u001b[0;34m(\u001b[0m\u001b[0mself\u001b[0m\u001b[0;34m)\u001b[0m\u001b[0;34m:\u001b[0m\u001b[0;34m\u001b[0m\u001b[0;34m\u001b[0m\u001b[0m\n",
      "\u001b[0;32m/Applications/anaconda3/lib/python3.7/site-packages/pandas/io/excel/_xlrd.py\u001b[0m in \u001b[0;36m__init__\u001b[0;34m(self, filepath_or_buffer)\u001b[0m\n\u001b[1;32m     19\u001b[0m         \u001b[0merr_msg\u001b[0m \u001b[0;34m=\u001b[0m \u001b[0;34m\"Install xlrd >= 1.0.0 for Excel support\"\u001b[0m\u001b[0;34m\u001b[0m\u001b[0;34m\u001b[0m\u001b[0m\n\u001b[1;32m     20\u001b[0m         \u001b[0mimport_optional_dependency\u001b[0m\u001b[0;34m(\u001b[0m\u001b[0;34m\"xlrd\"\u001b[0m\u001b[0;34m,\u001b[0m \u001b[0mextra\u001b[0m\u001b[0;34m=\u001b[0m\u001b[0merr_msg\u001b[0m\u001b[0;34m)\u001b[0m\u001b[0;34m\u001b[0m\u001b[0;34m\u001b[0m\u001b[0m\n\u001b[0;32m---> 21\u001b[0;31m         \u001b[0msuper\u001b[0m\u001b[0;34m(\u001b[0m\u001b[0;34m)\u001b[0m\u001b[0;34m.\u001b[0m\u001b[0m__init__\u001b[0m\u001b[0;34m(\u001b[0m\u001b[0mfilepath_or_buffer\u001b[0m\u001b[0;34m)\u001b[0m\u001b[0;34m\u001b[0m\u001b[0;34m\u001b[0m\u001b[0m\n\u001b[0m\u001b[1;32m     22\u001b[0m \u001b[0;34m\u001b[0m\u001b[0m\n\u001b[1;32m     23\u001b[0m     \u001b[0;34m@\u001b[0m\u001b[0mproperty\u001b[0m\u001b[0;34m\u001b[0m\u001b[0;34m\u001b[0m\u001b[0m\n",
      "\u001b[0;32m/Applications/anaconda3/lib/python3.7/site-packages/pandas/io/excel/_base.py\u001b[0m in \u001b[0;36m__init__\u001b[0;34m(self, filepath_or_buffer)\u001b[0m\n\u001b[1;32m    351\u001b[0m             \u001b[0mself\u001b[0m\u001b[0;34m.\u001b[0m\u001b[0mbook\u001b[0m \u001b[0;34m=\u001b[0m \u001b[0mself\u001b[0m\u001b[0;34m.\u001b[0m\u001b[0mload_workbook\u001b[0m\u001b[0;34m(\u001b[0m\u001b[0mfilepath_or_buffer\u001b[0m\u001b[0;34m)\u001b[0m\u001b[0;34m\u001b[0m\u001b[0;34m\u001b[0m\u001b[0m\n\u001b[1;32m    352\u001b[0m         \u001b[0;32melif\u001b[0m \u001b[0misinstance\u001b[0m\u001b[0;34m(\u001b[0m\u001b[0mfilepath_or_buffer\u001b[0m\u001b[0;34m,\u001b[0m \u001b[0mstr\u001b[0m\u001b[0;34m)\u001b[0m\u001b[0;34m:\u001b[0m\u001b[0;34m\u001b[0m\u001b[0;34m\u001b[0m\u001b[0m\n\u001b[0;32m--> 353\u001b[0;31m             \u001b[0mself\u001b[0m\u001b[0;34m.\u001b[0m\u001b[0mbook\u001b[0m \u001b[0;34m=\u001b[0m \u001b[0mself\u001b[0m\u001b[0;34m.\u001b[0m\u001b[0mload_workbook\u001b[0m\u001b[0;34m(\u001b[0m\u001b[0mfilepath_or_buffer\u001b[0m\u001b[0;34m)\u001b[0m\u001b[0;34m\u001b[0m\u001b[0;34m\u001b[0m\u001b[0m\n\u001b[0m\u001b[1;32m    354\u001b[0m         \u001b[0;32melif\u001b[0m \u001b[0misinstance\u001b[0m\u001b[0;34m(\u001b[0m\u001b[0mfilepath_or_buffer\u001b[0m\u001b[0;34m,\u001b[0m \u001b[0mbytes\u001b[0m\u001b[0;34m)\u001b[0m\u001b[0;34m:\u001b[0m\u001b[0;34m\u001b[0m\u001b[0;34m\u001b[0m\u001b[0m\n\u001b[1;32m    355\u001b[0m             \u001b[0mself\u001b[0m\u001b[0;34m.\u001b[0m\u001b[0mbook\u001b[0m \u001b[0;34m=\u001b[0m \u001b[0mself\u001b[0m\u001b[0;34m.\u001b[0m\u001b[0mload_workbook\u001b[0m\u001b[0;34m(\u001b[0m\u001b[0mBytesIO\u001b[0m\u001b[0;34m(\u001b[0m\u001b[0mfilepath_or_buffer\u001b[0m\u001b[0;34m)\u001b[0m\u001b[0;34m)\u001b[0m\u001b[0;34m\u001b[0m\u001b[0;34m\u001b[0m\u001b[0m\n",
      "\u001b[0;32m/Applications/anaconda3/lib/python3.7/site-packages/pandas/io/excel/_xlrd.py\u001b[0m in \u001b[0;36mload_workbook\u001b[0;34m(self, filepath_or_buffer)\u001b[0m\n\u001b[1;32m     34\u001b[0m             \u001b[0;32mreturn\u001b[0m \u001b[0mopen_workbook\u001b[0m\u001b[0;34m(\u001b[0m\u001b[0mfile_contents\u001b[0m\u001b[0;34m=\u001b[0m\u001b[0mdata\u001b[0m\u001b[0;34m)\u001b[0m\u001b[0;34m\u001b[0m\u001b[0;34m\u001b[0m\u001b[0m\n\u001b[1;32m     35\u001b[0m         \u001b[0;32melse\u001b[0m\u001b[0;34m:\u001b[0m\u001b[0;34m\u001b[0m\u001b[0;34m\u001b[0m\u001b[0m\n\u001b[0;32m---> 36\u001b[0;31m             \u001b[0;32mreturn\u001b[0m \u001b[0mopen_workbook\u001b[0m\u001b[0;34m(\u001b[0m\u001b[0mfilepath_or_buffer\u001b[0m\u001b[0;34m)\u001b[0m\u001b[0;34m\u001b[0m\u001b[0;34m\u001b[0m\u001b[0m\n\u001b[0m\u001b[1;32m     37\u001b[0m \u001b[0;34m\u001b[0m\u001b[0m\n\u001b[1;32m     38\u001b[0m     \u001b[0;34m@\u001b[0m\u001b[0mproperty\u001b[0m\u001b[0;34m\u001b[0m\u001b[0;34m\u001b[0m\u001b[0m\n",
      "\u001b[0;32m/Applications/anaconda3/lib/python3.7/site-packages/xlrd/__init__.py\u001b[0m in \u001b[0;36mopen_workbook\u001b[0;34m(filename, logfile, verbosity, use_mmap, file_contents, encoding_override, formatting_info, on_demand, ragged_rows)\u001b[0m\n\u001b[1;32m    109\u001b[0m     \u001b[0;32melse\u001b[0m\u001b[0;34m:\u001b[0m\u001b[0;34m\u001b[0m\u001b[0;34m\u001b[0m\u001b[0m\n\u001b[1;32m    110\u001b[0m         \u001b[0mfilename\u001b[0m \u001b[0;34m=\u001b[0m \u001b[0mos\u001b[0m\u001b[0;34m.\u001b[0m\u001b[0mpath\u001b[0m\u001b[0;34m.\u001b[0m\u001b[0mexpanduser\u001b[0m\u001b[0;34m(\u001b[0m\u001b[0mfilename\u001b[0m\u001b[0;34m)\u001b[0m\u001b[0;34m\u001b[0m\u001b[0;34m\u001b[0m\u001b[0m\n\u001b[0;32m--> 111\u001b[0;31m         \u001b[0;32mwith\u001b[0m \u001b[0mopen\u001b[0m\u001b[0;34m(\u001b[0m\u001b[0mfilename\u001b[0m\u001b[0;34m,\u001b[0m \u001b[0;34m\"rb\"\u001b[0m\u001b[0;34m)\u001b[0m \u001b[0;32mas\u001b[0m \u001b[0mf\u001b[0m\u001b[0;34m:\u001b[0m\u001b[0;34m\u001b[0m\u001b[0;34m\u001b[0m\u001b[0m\n\u001b[0m\u001b[1;32m    112\u001b[0m             \u001b[0mpeek\u001b[0m \u001b[0;34m=\u001b[0m \u001b[0mf\u001b[0m\u001b[0;34m.\u001b[0m\u001b[0mread\u001b[0m\u001b[0;34m(\u001b[0m\u001b[0mpeeksz\u001b[0m\u001b[0;34m)\u001b[0m\u001b[0;34m\u001b[0m\u001b[0;34m\u001b[0m\u001b[0m\n\u001b[1;32m    113\u001b[0m     \u001b[0;32mif\u001b[0m \u001b[0mpeek\u001b[0m \u001b[0;34m==\u001b[0m \u001b[0;34mb\"PK\\x03\\x04\"\u001b[0m\u001b[0;34m:\u001b[0m \u001b[0;31m# a ZIP file\u001b[0m\u001b[0;34m\u001b[0m\u001b[0;34m\u001b[0m\u001b[0m\n",
      "\u001b[0;31mFileNotFoundError\u001b[0m: [Errno 2] No such file or directory: 'house_sales_project.xlsx'"
     ]
    }
   ],
   "source": [
    "house_sales = pd.read_excel('~/Desktop/house_sales_project.xlsx')"
   ]
  },
  {
   "cell_type": "markdown",
   "metadata": {
    "colab_type": "text",
    "id": "zkmykjFMsyBy"
   },
   "source": [
    "## Removing Outliers\n"
   ]
  },
  {
   "cell_type": "markdown",
   "metadata": {
    "colab_type": "text",
    "id": "BnG6zTYtmuWl"
   },
   "source": [
    "To enhance the predictive and descriptive capabilities of the data, we decided to filter the data to remove outliers.  For this dataset, we assume normal distibution of data.  The following code calculates the mean and standard deviations. The data is then stardardized and outliers that are 3 standard deviations are flagged.  This is first applied to the AdjSalePrice."
   ]
  },
  {
   "cell_type": "code",
   "execution_count": null,
   "metadata": {
    "colab": {},
    "colab_type": "code",
    "id": "akxaP0cvq37d"
   },
   "outputs": [],
   "source": [
    "# Create variables to help find standardized AdjSalePrice\n",
    "AdjSalePriceMean = round(house_sales['AdjSalePrice'].mean(),2)\n",
    "AdjSalePriceStd = round(house_sales['AdjSalePrice'].std(),2 )\n",
    "\n",
    "# Find standardized price\n",
    "house_sales['AdjSalePriceNormal'] = (house_sales['AdjSalePrice'] - AdjSalePriceMean)/AdjSalePriceStd\n",
    "\n",
    "# Determine potential outliers by testing standardized AdjSalePrice with +3 and -3 standard deviations\n",
    "potOutliersAdjSPr = house_sales['AdjSalePriceNormal'].where((house_sales['AdjSalePriceNormal'] > 3) | (house_sales['AdjSalePriceNormal'] < -3)).dropna().sort_values()\n",
    "\n",
    "# Create a Data Frame with only outliers\n",
    "outlierDFAdjSPr = house_sales.where(house_sales['AdjSalePrice'].isin(potOutliersAdjSPr)).dropna(how = 'all')"
   ]
  },
  {
   "cell_type": "code",
   "execution_count": null,
   "metadata": {
    "colab": {},
    "colab_type": "code",
    "id": "hD2SOPcvrATJ"
   },
   "outputs": [],
   "source": [
    "# Create variables to help find standardized LandVal\n",
    "LandValMean = round(house_sales['LandVal'].mean(),2)\n",
    "LandValStd = round(house_sales['LandVal'].std(),2 )\n",
    "\n",
    "# Find standardized LandVal\n",
    "house_sales['LandValNormal'] = (house_sales['LandVal'] - LandValMean)/LandValStd\n",
    "\n",
    "# Determine potential outliers by testing standardized LandVal with +3 and -3 standard deviations\n",
    "potOutliersLandVal = house_sales['LandValNormal'].where((house_sales['LandValNormal'] > 3) | (house_sales['LandValNormal'] < -3)).dropna().sort_values()\n",
    "\n",
    "# Create a Data Frame with only outliers\n",
    "outlierDFLandVal = house_sales.where(house_sales['LandVal'].isin(potOutliersLandVal)).dropna(how = 'all')"
   ]
  },
  {
   "cell_type": "code",
   "execution_count": null,
   "metadata": {
    "colab": {},
    "colab_type": "code",
    "id": "PinD82nhrEo9"
   },
   "outputs": [],
   "source": [
    "# Create variables to help find standardized ImpsVal\n",
    "ImpsValMean = round(house_sales['ImpsVal'].mean(),2)\n",
    "ImpsValStd = round(house_sales['ImpsVal'].std(),2 )\n",
    "\n",
    "# Find standardized ImpsVal\n",
    "house_sales['ImpsValNormal'] = (house_sales['ImpsVal'] - ImpsValMean)/ImpsValStd\n",
    "\n",
    "# Determine potential outliers by testing standardized ImpsVal with +3 and -3 standard deviations\n",
    "potOutliersImpsVal = house_sales['ImpsValNormal'].where((house_sales['ImpsValNormal'] > 3) | (house_sales['ImpsValNormal'] < -3)).dropna().sort_values()\n",
    "\n",
    "# Create a Data Frame with only outliers\n",
    "outlierDFImpsVal = house_sales.where(house_sales['ImpsVal'].isin(potOutliersImpsVal)).dropna(how = 'all')"
   ]
  },
  {
   "cell_type": "code",
   "execution_count": null,
   "metadata": {
    "colab": {},
    "colab_type": "code",
    "id": "mt7AGws-rIiV"
   },
   "outputs": [],
   "source": [
    "# Create variables to help find standardized SqFtLot\n",
    "SqFtLotMean = round(house_sales['SqFtLot'].mean(),2)\n",
    "SqFtLotStd = round(house_sales['SqFtLot'].std(),2 )\n",
    "\n",
    "# Find standardized SqFtLot\n",
    "house_sales['SqFtLotNormal'] = (house_sales['SqFtLot'] - SqFtLotMean)/SqFtLotStd\n",
    "\n",
    "# Determine potential outliers by testing standardized SqFtLot with +3 and -3 standard deviations\n",
    "potOutliersSqFtLot = house_sales['SqFtLotNormal'].where((house_sales['SqFtLotNormal'] > 3) | (house_sales['SqFtLotNormal'] < -3)).dropna().sort_values()\n",
    "\n",
    "# Create a Data Frame with only outliers\n",
    "outlierDFSqFtLot = house_sales.where(house_sales['SqFtLot'].isin(potOutliersSqFtLot)).dropna(how = 'all')"
   ]
  },
  {
   "cell_type": "code",
   "execution_count": null,
   "metadata": {
    "colab": {},
    "colab_type": "code",
    "id": "tQ5jJm8srM_r"
   },
   "outputs": [],
   "source": [
    "# Create variables to help find standardized SqFtTotLiving\n",
    "SqFtTotLivingMean = round(house_sales['SqFtTotLiving'].mean(),2)\n",
    "SqFtTotLivingStd = round(house_sales['SqFtTotLiving'].std(),2 )\n",
    "\n",
    "# Find standardized SqFtTotLiving\n",
    "house_sales['SqFtTotLivingNormal'] = (house_sales['SqFtTotLiving'] - SqFtTotLivingMean)/SqFtTotLivingStd\n",
    "\n",
    "# Determine potential outliers by testing standardized SqFtTotLiving with +3 and -3 standard deviations\n",
    "potOutliersSqFtTotLiving = house_sales['SqFtTotLivingNormal'].where((house_sales['SqFtTotLivingNormal'] > 3) | (house_sales['SqFtTotLivingNormal'] < -3)).dropna().sort_values()\n",
    "\n",
    "# Create a Data Frame with only outliers\n",
    "outlierDFSqFtTotLiving = house_sales.where(house_sales['SqFtTotLiving'].isin(potOutliersSqFtTotLiving)).dropna(how = 'all')"
   ]
  },
  {
   "cell_type": "code",
   "execution_count": null,
   "metadata": {
    "colab": {},
    "colab_type": "code",
    "id": "4mzPyNg3rRLV"
   },
   "outputs": [],
   "source": [
    "# Create a Data Frame without outliers\n",
    "house_sales_NO = house_sales.where(~house_sales['AdjSalePriceNormal'].isin(potOutliersAdjSPr)).dropna(how = 'all')\n",
    "house_sales_NO = house_sales_NO.where(~house_sales['LandValNormal'].isin(potOutliersLandVal)).dropna(how = 'all')\n",
    "house_sales_NO = house_sales_NO.where(~house_sales['ImpsValNormal'].isin(potOutliersImpsVal)).dropna(how = 'all')\n",
    "house_sales_NO = house_sales_NO.where(~house_sales['SqFtLotNormal'].isin(potOutliersSqFtLot)).dropna(how = 'all')\n",
    "house_sales_NO = house_sales_NO.where(~house_sales['SqFtTotLiving'].isin(potOutliersSqFtTotLiving)).dropna(how = 'all')"
   ]
  },
  {
   "cell_type": "code",
   "execution_count": null,
   "metadata": {
    "colab": {},
    "colab_type": "code",
    "id": "JO3J1KvMonu-"
   },
   "outputs": [],
   "source": [
    "# Remove the high number bedrooms(anything higher than 11 bedrooms)\n",
    "potOutliersBedrooms = house_sales['Bedrooms'].where((house_sales['Bedrooms'] > 11)).dropna()\n",
    "house_sales_NO = house_sales_NO.where(~house_sales['Bedrooms'].isin(potOutliersBedrooms)).dropna(how = 'all')"
   ]
  },
  {
   "cell_type": "markdown",
   "metadata": {
    "colab_type": "text",
    "id": "2CwuXXxDqog8"
   },
   "source": [
    "# **Descriptive Analytics Workflow**"
   ]
  },
  {
   "cell_type": "code",
   "execution_count": null,
   "metadata": {
    "cellView": "both",
    "colab": {
     "base_uri": "https://localhost:8080/",
     "height": 200
    },
    "colab_type": "code",
    "executionInfo": {
     "elapsed": 940,
     "status": "error",
     "timestamp": 1597268911883,
     "user": {
      "displayName": "Roshni Singh",
      "photoUrl": "",
      "userId": "17426941949798922420"
     },
     "user_tz": 360
    },
    "id": "auyB6RrxrbEl",
    "outputId": "4f8a1aae-c78a-4fb6-a89a-81bc68fc8f3a"
   },
   "outputs": [],
   "source": [
    "rows = house_sales_NO.shape[0]\n",
    "columns = house_sales_NO.shape[1]\n",
    "print('This data set has ' + str(rows) +' rows and ' + str(columns) +' columns')"
   ]
  },
  {
   "cell_type": "code",
   "execution_count": null,
   "metadata": {
    "cellView": "both",
    "colab": {
     "base_uri": "https://localhost:8080/",
     "height": 119
    },
    "colab_type": "code",
    "id": "m9ZrpqfOuGDD",
    "outputId": "8f6a8366-939e-4565-bdee-a5c0faf39780"
   },
   "outputs": [],
   "source": [
    "max_bed = house_sales_NO.Bedrooms.max()\n",
    "max_bath = house_sales_NO.Bathrooms.max()\n",
    "max_price = house_sales_NO.AdjSalePrice.max()\n",
    "max_sqft_lot = house_sales_NO.SqFtLot.max()\n",
    "max_sqft_living = house_sales_NO.SqFtTotLiving.max()\n",
    "max_tot_sqft = max_sqft_living+max_sqft_lot\n",
    "\n",
    "print('The max sales price is: ' +str(max_price))\n",
    "print('The max bedrooms are: ' + str(max_bed))\n",
    "print('The max bathrooms are: ' +str(max_bath))\n",
    "print('The max lot sqft is: ' +str(max_sqft_lot))\n",
    "print('The max living sqft is: ' +str(max_sqft_living))\n",
    "print('The max total sqft is: ' +str(max_tot_sqft))"
   ]
  },
  {
   "cell_type": "code",
   "execution_count": null,
   "metadata": {
    "colab": {
     "base_uri": "https://localhost:8080/",
     "height": 470
    },
    "colab_type": "code",
    "id": "b6Cox0h00wQb",
    "outputId": "b296dbf3-da39-4d8e-d7bd-40c6773b402a"
   },
   "outputs": [],
   "source": [
    "plt.subplots(figsize=(9,7))\n",
    "sns.set(font_scale = 1)\n",
    "sns.distplot(house_sales['AdjSalePrice'])"
   ]
  },
  {
   "cell_type": "code",
   "execution_count": null,
   "metadata": {
    "colab": {
     "base_uri": "https://localhost:8080/",
     "height": 476
    },
    "colab_type": "code",
    "id": "Eyxy3KpB1dug",
    "outputId": "13340f6c-7ed5-4f03-a03a-34eda60427f2",
    "scrolled": false
   },
   "outputs": [],
   "source": [
    "# histogram graph with outliers removed\n",
    "plt.subplots(figsize=(9,7))\n",
    "sns.set(font_scale = 1)\n",
    "sns.distplot(house_sales_NO['AdjSalePrice'])"
   ]
  },
  {
   "cell_type": "markdown",
   "metadata": {
    "colab_type": "text",
    "id": "vunnjUl6XATz"
   },
   "source": [
    "### What variable is most correlated with sale price?\n",
    "\n",
    "The two variables with the highest correlation to the adjusted sale price are: Land value, LandVal, and Improvement Value, ImpsVal. The high correlation between adjusted sale price and LandVal is based off of the value of the land the house is on."
   ]
  },
  {
   "cell_type": "markdown",
   "metadata": {
    "colab_type": "text",
    "id": "UBZwOGzsonvQ"
   },
   "source": [
    "### Correlation Heat Map"
   ]
  },
  {
   "cell_type": "code",
   "execution_count": null,
   "metadata": {
    "colab": {},
    "colab_type": "code",
    "id": "h9Z7gGHPonvQ",
    "outputId": "5eab6d7e-961c-417f-aa22-d656e749932a",
    "scrolled": false
   },
   "outputs": [],
   "source": [
    "plt.subplots(figsize=(17,12))\n",
    "sns.set(font_scale = 1)\n",
    "sns.heatmap(house_sales_NO.corr(), annot= True, cmap= 'Blues', cbar_kws={'label': 'Correlation'})"
   ]
  },
  {
   "cell_type": "markdown",
   "metadata": {
    "colab_type": "text",
    "id": "KkM0hEbkXAT8"
   },
   "source": [
    "### Is the zip code associated with mean sale price?\n",
    "\n",
    "The zip code does factor into the adjusted mean sale price. Some zip codes offer better living conditions whereas others don’t (ex. safety). Many homeowners are willing to compromise on price in order to get what they are looking for in a house. This is why certain zip codes will incur higher adjusted sale prices."
   ]
  },
  {
   "cell_type": "markdown",
   "metadata": {
    "colab_type": "text",
    "id": "Z_K3j-W8onvU"
   },
   "source": [
    "### Seattle Housing Prices Interactive Map"
   ]
  },
  {
   "cell_type": "code",
   "execution_count": null,
   "metadata": {
    "colab": {},
    "colab_type": "code",
    "id": "e4hO8hKMonvV"
   },
   "outputs": [],
   "source": [
    "house_sales_NO.to_csv('house_sales_NO.csv')"
   ]
  },
  {
   "cell_type": "code",
   "execution_count": null,
   "metadata": {
    "colab": {},
    "colab_type": "code",
    "id": "l4ECZbFIonvY"
   },
   "outputs": [],
   "source": [
    "house_sales_zip_agg = house_sales.groupby(['ZipCode']).AdjSalePrice.describe().sort_values(by='mean', ascending = False).round(4)\n",
    "house_sales_zip_agg.to_csv('zipAgg')\n",
    "zipAgg = pd.read_csv('zipAgg')\n",
    "zipAgg['ZipCode']=zipAgg['ZipCode'].astype(str)\n",
    "import folium"
   ]
  },
  {
   "cell_type": "code",
   "execution_count": null,
   "metadata": {
    "colab": {},
    "colab_type": "code",
    "id": "XjN7s-zConva",
    "outputId": "2e3794e6-910a-4fd4-c865-19b8c9a9a4e6",
    "scrolled": true
   },
   "outputs": [],
   "source": [
    "#Create interactive house value map overlay\n",
    "map = folium.Map(location=[47.4957, -121.7868], zoom_start= 10)\n",
    "folium.Choropleth(geo_data=\"https://raw.githubusercontent.com/OpenDataDE/State-zip-code-GeoJSON/master/wa_washington_zip_codes_geo.min.json\",\n",
    "             data=zipAgg, # my dataset\n",
    "             columns=['ZipCode', 'mean'], # zip code is here for matching the geojson zipcode, sales price is the column that changes the color of zipcode areas\n",
    "             key_on='feature.properties.ZCTA5CE10', # this path contains zipcodes in str type, this zipcodes should match with our ZIP CODE column\n",
    "             fill_color='BuPu', fill_opacity=.6, line_weight=.8, line_opacity=0.8, nan_fill_opacity = 1,\n",
    "             legend_name=\"Average House Value\"\n",
    "             ).add_to(map)\n",
    "map"
   ]
  },
  {
   "cell_type": "code",
   "execution_count": null,
   "metadata": {
    "colab": {},
    "colab_type": "code",
    "id": "JIT3fMRTonvd",
    "outputId": "35772c4e-10f8-4dc6-9710-e51f4b38e8b6",
    "scrolled": false
   },
   "outputs": [],
   "source": [
    "house_sales_NO.groupby(['ZipCode']).AdjSalePrice.describe().sort_values(by= 'mean', ascending = False).round(4)"
   ]
  },
  {
   "cell_type": "markdown",
   "metadata": {
    "colab_type": "text",
    "id": "RhzlfHwHXAUC"
   },
   "source": [
    "### Are newer houses on average more expensive than older houses?\n",
    "\n",
    "From the analysis, it shows that in the top 5 years, 3 of those years were in the early 1900s. Although this does make it seem that older houses result in higher adjusted sale prices, there are many other factors such as location, renovation, and building grade."
   ]
  },
  {
   "cell_type": "code",
   "execution_count": null,
   "metadata": {
    "cellView": "both",
    "colab": {
     "base_uri": "https://localhost:8080/",
     "height": 450
    },
    "colab_type": "code",
    "id": "9aAj2o1sthkN",
    "outputId": "ebe60566-59fe-49e5-fb65-cbe9389e729c",
    "scrolled": false
   },
   "outputs": [],
   "source": [
    "house_sales_NO.groupby(['YrBuilt']).AdjSalePrice.describe().sort_values(by= 'mean', ascending = False).round(4)"
   ]
  },
  {
   "cell_type": "code",
   "execution_count": null,
   "metadata": {
    "colab": {
     "base_uri": "https://localhost:8080/",
     "height": 313
    },
    "colab_type": "code",
    "id": "HQTDbguX0Hqc",
    "outputId": "3e23318f-8696-4d84-e5a5-f094715744cf",
    "scrolled": true
   },
   "outputs": [],
   "source": [
    "sns.set(font_scale = 1)\n",
    "sns.regplot(x='YrBuilt', y = 'AdjSalePrice', data=house_sales_NO)"
   ]
  },
  {
   "cell_type": "code",
   "execution_count": null,
   "metadata": {
    "colab": {
     "base_uri": "https://localhost:8080/",
     "height": 142
    },
    "colab_type": "code",
    "id": "rBrOYoFUticd",
    "outputId": "d0ab6bfd-77b5-41ae-e254-3a2aee370f62",
    "scrolled": false
   },
   "outputs": [],
   "source": [
    "house_sales_NO.groupby(['NewConstruction']).AdjSalePrice.describe().sort_values(by='mean', ascending = False).round(4)"
   ]
  },
  {
   "cell_type": "code",
   "execution_count": null,
   "metadata": {
    "colab": {
     "base_uri": "https://localhost:8080/",
     "height": 302
    },
    "colab_type": "code",
    "id": "BHFtyTDUz-OS",
    "outputId": "50addcf0-4bfa-4f21-bde5-360c363a4d6c",
    "scrolled": false
   },
   "outputs": [],
   "source": [
    "sns.set(font_scale = 1)\n",
    "sns.barplot(x='NewConstruction', y='AdjSalePrice', data=house_sales_NO)"
   ]
  },
  {
   "cell_type": "markdown",
   "metadata": {
    "colab_type": "text",
    "id": "JluntL8PXAUQ"
   },
   "source": [
    "### What effect does increasing building grade have on sale price?\n",
    "\n",
    "As the building grade increases, the adjusted sale price also increases. A building grade from 1-3 indicates it is not as safe. A building grade of 6 is currently the lowest building grade level with the highest being 13. From the analysis you can see that building grade is correlated with adjusted sale price. As the building grade goes higher, the adjusted sale price also increases."
   ]
  },
  {
   "cell_type": "code",
   "execution_count": null,
   "metadata": {
    "colab": {
     "base_uri": "https://localhost:8080/",
     "height": 421
    },
    "colab_type": "code",
    "id": "H2ZxmCVZtlTP",
    "outputId": "95ecbaea-48a7-4fce-a9ea-84363e9785a6",
    "scrolled": false
   },
   "outputs": [],
   "source": [
    "house_sales_NO.groupby(['BldgGrade']).AdjSalePrice.describe().sort_values(by='mean', ascending=False).round(4)"
   ]
  },
  {
   "cell_type": "code",
   "execution_count": null,
   "metadata": {
    "colab": {
     "base_uri": "https://localhost:8080/",
     "height": 313
    },
    "colab_type": "code",
    "id": "0GQS9vRBzxhA",
    "outputId": "de4a213a-99f4-4608-cbdc-75c5477800a6",
    "scrolled": true
   },
   "outputs": [],
   "source": [
    "sns.set(font_scale = 1)\n",
    "sns.barplot(x='BldgGrade', y='AdjSalePrice', data=house_sales_NO)"
   ]
  },
  {
   "cell_type": "code",
   "execution_count": null,
   "metadata": {
    "colab": {
     "base_uri": "https://localhost:8080/",
     "height": 313
    },
    "colab_type": "code",
    "id": "qg2eF051z1q9",
    "outputId": "ea8194c2-a4d8-4d72-cd4a-7b158508b58e",
    "scrolled": false
   },
   "outputs": [],
   "source": [
    "sns.set(font_scale = 1)\n",
    "sns.regplot(x='BldgGrade', y= 'AdjSalePrice', data=house_sales_NO)"
   ]
  },
  {
   "cell_type": "markdown",
   "metadata": {
    "colab_type": "text",
    "id": "VOkh5UdgXAUd"
   },
   "source": [
    "### Does adding a bedroom or bathroom add more value to the adjusted sale price?\n",
    "\n",
    "As the data shows, adding bedrooms to an apartment does increase the adjusted sale price up until a certain amount. After 5 bedrooms, there is diminishing marginal returns but the adjusted sale price still increases. After 8 bedrooms however, the adjusted sale price keeps reducing.\n",
    "\n",
    "As the number of bathrooms increase, the analysis shows that the adjusted sale price also increases. The analysis does show some bathroom numbers as having a lower price value but, these values are based off of very few numbers of reports for that number of bathrooms."
   ]
  },
  {
   "cell_type": "code",
   "execution_count": null,
   "metadata": {
    "colab": {
     "base_uri": "https://localhost:8080/",
     "height": 313
    },
    "colab_type": "code",
    "id": "rBWyUbQizRCz",
    "outputId": "67847932-92db-4dbb-a614-6f79bdf1b15e",
    "scrolled": true
   },
   "outputs": [],
   "source": [
    "sns.regplot(x='Bedrooms', y ='AdjSalePrice', data= house_sales_NO)"
   ]
  },
  {
   "cell_type": "code",
   "execution_count": null,
   "metadata": {
    "colab": {
     "base_uri": "https://localhost:8080/",
     "height": 313
    },
    "colab_type": "code",
    "id": "jb3xht6n4jtX",
    "outputId": "68381034-1e69-4028-fc96-5b1aa3afe3f2",
    "scrolled": true
   },
   "outputs": [],
   "source": [
    "sns.set(font_scale = 1)\n",
    "sns.barplot(x='Bedrooms', y='AdjSalePrice', data=house_sales_NO)"
   ]
  },
  {
   "cell_type": "code",
   "execution_count": null,
   "metadata": {
    "colab": {
     "base_uri": "https://localhost:8080/",
     "height": 917
    },
    "colab_type": "code",
    "id": "jfp2l2F3uptE",
    "outputId": "9707c1a3-04da-45cd-d028-4320da28df14",
    "scrolled": false
   },
   "outputs": [],
   "source": [
    "house_sales_NO.groupby(['Bathrooms']).AdjSalePrice.describe().sort_values(by='mean', ascending=False).round(4)"
   ]
  },
  {
   "cell_type": "code",
   "execution_count": null,
   "metadata": {
    "colab": {
     "base_uri": "https://localhost:8080/",
     "height": 313
    },
    "colab_type": "code",
    "id": "NGFEtdtpzIxb",
    "outputId": "b500959c-0373-409d-8b2e-a0433b6bd4aa",
    "scrolled": true
   },
   "outputs": [],
   "source": [
    "sns.regplot(x='Bathrooms', y='AdjSalePrice', data= house_sales_NO)"
   ]
  },
  {
   "cell_type": "code",
   "execution_count": null,
   "metadata": {
    "colab": {
     "base_uri": "https://localhost:8080/",
     "height": 639
    },
    "colab_type": "code",
    "id": "9CTATrYT2cO8",
    "outputId": "11997fe5-e355-4589-9e7f-13fcc9481580",
    "scrolled": false
   },
   "outputs": [],
   "source": [
    "sns.set(font_scale = 1)\n",
    "plt.subplots(figsize=(12,10))\n",
    "sns.barplot(x='Bathrooms', y='AdjSalePrice', data=house_sales_NO)"
   ]
  },
  {
   "cell_type": "markdown",
   "metadata": {
    "colab_type": "text",
    "id": "Oh8rNDb5XAUi"
   },
   "source": [
    "### What effect does an increase in traffic noise have on the final adjusted sale price?\n",
    "\n",
    "The analysis for traffic noise shows that as traffic noise increases, there is a decrease in the adjusted sale price. The mean adjusted sale price shown between the lowest traffic noise and the highest traffic noise is not a big difference. This shows that even though this is a negative correlation, the correlation is not used as a major factor for deciding the adjusted sale price."
   ]
  },
  {
   "cell_type": "code",
   "execution_count": null,
   "metadata": {
    "colab": {
     "base_uri": "https://localhost:8080/",
     "height": 204
    },
    "colab_type": "code",
    "id": "L56Sc3csu6-U",
    "outputId": "de113369-ab69-4fb9-cce4-3471896b4f89",
    "scrolled": true
   },
   "outputs": [],
   "source": [
    "house_sales_NO.groupby(['TrafficNoise']).AdjSalePrice.describe().sort_values(by='mean', ascending=False).round(4)"
   ]
  },
  {
   "cell_type": "code",
   "execution_count": null,
   "metadata": {
    "colab": {
     "base_uri": "https://localhost:8080/",
     "height": 302
    },
    "colab_type": "code",
    "id": "Ft8lr8Wry_ay",
    "outputId": "71b142b9-7b54-4c58-869c-b43b478f1c22",
    "scrolled": true
   },
   "outputs": [],
   "source": [
    "sns.set(font_scale = 1)\n",
    "sns.barplot(x='TrafficNoise', y='AdjSalePrice', data=house_sales_NO)"
   ]
  },
  {
   "cell_type": "markdown",
   "metadata": {
    "colab_type": "text",
    "id": "5pfyDsr3onwX"
   },
   "source": [
    "# Descriptive Tutorials"
   ]
  },
  {
   "cell_type": "markdown",
   "metadata": {
    "colab_type": "text",
    "id": "9NKiexFKpqUh"
   },
   "source": [
    "The subplots function was used to plot the points. The dafault parameters for rows and columns was used to use all the columns and rows. The figsize was declared so that there aren't any distortions.\n",
    "\n",
    "The second line of code was used to set the aesthetics of the graph. Everything was kept standard except for the font-scale for readability  of everything.\n",
    "\n",
    "The distplot function was used to show which column from the data set we wanted to plot on the graph."
   ]
  },
  {
   "cell_type": "code",
   "execution_count": null,
   "metadata": {
    "colab": {},
    "colab_type": "code",
    "id": "tqG8VTcYonwa",
    "outputId": "3a70cdb7-d8b6-4658-8034-a8d8a9eb051e"
   },
   "outputs": [],
   "source": [
    "plt.subplots(figsize=(9,7))\n",
    "sns.set(font_scale = 1)\n",
    "sns.distplot(house_sales['AdjSalePrice'])"
   ]
  },
  {
   "cell_type": "markdown",
   "metadata": {
    "colab_type": "text",
    "id": "nvFrHH6FvAGH"
   },
   "source": [
    "The groupby function was used to group together a column according to a number or category.\n",
    "\n",
    "After the groupby function, the describe function was used to create a table that would display the statistics for each number/category from the groupby function.\n",
    "\n",
    "The sort_values function was used to display the groups by mean in descending order."
   ]
  },
  {
   "cell_type": "code",
   "execution_count": null,
   "metadata": {
    "colab": {},
    "colab_type": "code",
    "id": "ux0G8Uexonwi",
    "outputId": "15ddcb8a-e2a4-4c41-c784-8702fda0672b"
   },
   "outputs": [],
   "source": [
    "house_sales_NO.groupby(['BldgGrade']).AdjSalePrice.describe().sort_values(by='mean', ascending=False).round(4)"
   ]
  },
  {
   "cell_type": "markdown",
   "metadata": {
    "colab_type": "text",
    "id": "o-qqalWSwftL"
   },
   "source": [
    "The regression model was displayed using the regplot function. The regplot function is useful visualizing the data but also includes a linear regression line to give the reader an idea of what the predicted adjusted sales price would be for the marginal increase.\n",
    "\n",
    "The x and y values for the plot were added in the first and second parameter. The data used was the third parameter."
   ]
  },
  {
   "cell_type": "code",
   "execution_count": null,
   "metadata": {
    "colab": {},
    "colab_type": "code",
    "id": "T1rwKR5Xonwn",
    "outputId": "30012522-6cdd-42ab-e0b3-1df87c38d4b4"
   },
   "outputs": [],
   "source": [
    "sns.regplot(x='Bedrooms', y ='AdjSalePrice', data= house_sales_NO)"
   ]
  },
  {
   "cell_type": "markdown",
   "metadata": {
    "colab_type": "text",
    "id": "IRLhyl0WyOSI"
   },
   "source": [
    "The subplot function was used to show a graph with the figure size used as a parameter.\n",
    "\n",
    "The second line of code set the graph's font scale so that there was easy readability.\n",
    "\n",
    "The third line of code showed which graph to display. A heatmap was used to show the correlation between two different variables against each other. The code\"cmap=\" is used to choose the color of the correlation. In this case we used hues of blues to denote how correlated each variable is. The code \"cbar_kws=\" is used to create a label on the left side for enhanced readability of the graph overall."
   ]
  },
  {
   "cell_type": "code",
   "execution_count": null,
   "metadata": {
    "colab": {},
    "colab_type": "code",
    "id": "MWtPRNSVonwr",
    "outputId": "0cfedcab-79c5-4254-960b-265a9b2becfc"
   },
   "outputs": [],
   "source": [
    "plt.subplots(figsize=(17,12))\n",
    "sns.set(font_scale = 1)\n",
    "sns.heatmap(house_sales_NO.corr(), annot= True, cmap= 'Blues', cbar_kws={'label': 'Correlation'})"
   ]
  }
 ],
 "metadata": {
  "colab": {
   "collapsed_sections": [],
   "name": "python_project_Descriptive.ipynb",
   "provenance": [],
   "toc_visible": true
  },
  "kernelspec": {
   "display_name": "Python 3",
   "language": "python",
   "name": "python3"
  },
  "language_info": {
   "codemirror_mode": {
    "name": "ipython",
    "version": 3
   },
   "file_extension": ".py",
   "mimetype": "text/x-python",
   "name": "python",
   "nbconvert_exporter": "python",
   "pygments_lexer": "ipython3",
   "version": "3.7.6"
  }
 },
 "nbformat": 4,
 "nbformat_minor": 1
}
