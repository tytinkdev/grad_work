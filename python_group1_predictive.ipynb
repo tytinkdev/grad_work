{
 "cells": [
  {
   "cell_type": "markdown",
   "metadata": {
    "colab_type": "text",
    "id": "0FfVjW5E4dF5"
   },
   "source": [
    "# Predictive Summary"
   ]
  },
  {
   "cell_type": "markdown",
   "metadata": {
    "colab_type": "text",
    "id": "LMdt58Mb4dF6"
   },
   "source": [
    "#### How can we use controllable variables such as size of living space in square feet, number of bathrooms, number of bedrooms, building grade, year built and improvement value to better predict the adjusted sale price of a house. "
   ]
  },
  {
   "cell_type": "markdown",
   "metadata": {
    "colab_type": "text",
    "id": "Rvwg_ihb4dF6"
   },
   "source": [
    "   We forecasted the adjusted sale price of a home with a regression using the controllable dependent variables of square footage of total living space, number of bathrooms, number of bedrooms, the building grade, the year the house was built, and the value of improvements made to the house. Based on the F-statistics for this regression we found that the value of improvements was the biggest driver when determining the sale price of a house, this was followed by building grade and then square footage of total living space. A 1 dollar increase in improvement value is associated with an increase of 0.73 in adjusted sale price. Similarly, changing the quality of construction via building grade can increase the valuation of the property by $64, 289.50.  We found that the number of bedrooms and year built both had negative coefficients. The older the house typically is, the less it sells for. We determined that the number of bedrooms was negative due to diminishing marginal returns when a house has over eight bedrooms. \n",
    "\n",
    "The linear regression model is:\n",
    "\n",
    "Modeled Adjusted Sale Price ($)  = 2,917,259.27 +  (61.65 * SqFtTotLiving) + (4,873.81 * Bathrooms) - (15,749.13 * Bedrooms) + (64,289.50 * BldgGrad) - (1,608.25 * YrBuilt) + (0.73 * ImpsVal)"
   ]
  },
  {
   "cell_type": "markdown",
   "metadata": {
    "colab_type": "text",
    "id": "9lBos5Tr4dF7"
   },
   "source": [
    "#### How can we use uncontrollable variables such as the square footage of the lot, traffic noise and land value to more accurately predict the adjusted sale price of a house.  "
   ]
  },
  {
   "cell_type": "markdown",
   "metadata": {
    "colab_type": "text",
    "id": "KPOben1G4dF7"
   },
   "source": [
    "We forecasted the adjusted sale price of a home with a regression using uncontrollable dependent variables of square footage of the lot, the traffic noise, and the value of the land. We found that the R-squared value for the uncontrollable variables was lower, 0.55, than the R-squared value for the controllable variables, 0.712, showing that the model for the controllable variables is more accurate. Based on the F-statistics we found that the value of land is the most important uncontrollable variable, with a 1 dollar increase in land value being associated with an increase of 1.41 in adjusted sale price. We also found that as traffic noise increases, the adjusted sale price will generally decrease at a rate of 9783.76 ($) per 1 unit increase in traffic noise rating. \n",
    "\n",
    "The linear regression model is:\n",
    "\n",
    "Modeled Adjusted Sale Price ($) = 223,869.44 + (1.63 * SqFtLot) - (9,783.76 * TrafficNoise) + (1.41 * LandVal)"
   ]
  },
  {
   "cell_type": "markdown",
   "metadata": {
    "colab_type": "text",
    "id": "0qZpmqow4dF8"
   },
   "source": [
    "# Predictive Analytics Tutorial"
   ]
  },
  {
   "cell_type": "markdown",
   "metadata": {
    "colab_type": "text",
    "id": "cIomsRtc4dF8"
   },
   "source": [
    "### Import Necessary Modules"
   ]
  },
  {
   "cell_type": "code",
   "execution_count": 1,
   "metadata": {
    "cellView": "both",
    "colab": {},
    "colab_type": "code",
    "id": "X1eU7qbYUSwF"
   },
   "outputs": [],
   "source": [
    "#import pandas modules\n",
    "import pandas as pd\n",
    "import numpy as np  \n",
    "import seaborn as sns \n",
    "import matplotlib.pyplot as plt  \n",
    "from sklearn.model_selection import train_test_split \n",
    "from sklearn.linear_model import LinearRegression\n",
    "from sklearn.feature_selection import f_regression\n",
    "from sklearn import metrics\n",
    "from sklearn.metrics import r2_score\n",
    "%matplotlib inline"
   ]
  },
  {
   "cell_type": "markdown",
   "metadata": {
    "colab_type": "text",
    "id": "FKiouj9D4dGA"
   },
   "source": [
    "### Import Data Table"
   ]
  },
  {
   "cell_type": "code",
   "execution_count": 2,
   "metadata": {
    "colab": {},
    "colab_type": "code",
    "id": "0yT7ceyC4dGB"
   },
   "outputs": [
    {
     "ename": "FileNotFoundError",
     "evalue": "[Errno 2] No such file or directory: 'house_sales_project.xlsx'",
     "output_type": "error",
     "traceback": [
      "\u001b[0;31m---------------------------------------------------------------------------\u001b[0m",
      "\u001b[0;31mFileNotFoundError\u001b[0m                         Traceback (most recent call last)",
      "\u001b[0;32m<ipython-input-2-100bd1977dd8>\u001b[0m in \u001b[0;36m<module>\u001b[0;34m\u001b[0m\n\u001b[0;32m----> 1\u001b[0;31m \u001b[0mhouse_sales\u001b[0m \u001b[0;34m=\u001b[0m \u001b[0mpd\u001b[0m\u001b[0;34m.\u001b[0m\u001b[0mread_excel\u001b[0m\u001b[0;34m(\u001b[0m\u001b[0;34m'house_sales_project.xlsx'\u001b[0m\u001b[0;34m)\u001b[0m\u001b[0;34m\u001b[0m\u001b[0;34m\u001b[0m\u001b[0m\n\u001b[0m",
      "\u001b[0;32m/Applications/anaconda3/lib/python3.7/site-packages/pandas/io/excel/_base.py\u001b[0m in \u001b[0;36mread_excel\u001b[0;34m(io, sheet_name, header, names, index_col, usecols, squeeze, dtype, engine, converters, true_values, false_values, skiprows, nrows, na_values, keep_default_na, verbose, parse_dates, date_parser, thousands, comment, skipfooter, convert_float, mangle_dupe_cols, **kwds)\u001b[0m\n\u001b[1;32m    302\u001b[0m \u001b[0;34m\u001b[0m\u001b[0m\n\u001b[1;32m    303\u001b[0m     \u001b[0;32mif\u001b[0m \u001b[0;32mnot\u001b[0m \u001b[0misinstance\u001b[0m\u001b[0;34m(\u001b[0m\u001b[0mio\u001b[0m\u001b[0;34m,\u001b[0m \u001b[0mExcelFile\u001b[0m\u001b[0;34m)\u001b[0m\u001b[0;34m:\u001b[0m\u001b[0;34m\u001b[0m\u001b[0;34m\u001b[0m\u001b[0m\n\u001b[0;32m--> 304\u001b[0;31m         \u001b[0mio\u001b[0m \u001b[0;34m=\u001b[0m \u001b[0mExcelFile\u001b[0m\u001b[0;34m(\u001b[0m\u001b[0mio\u001b[0m\u001b[0;34m,\u001b[0m \u001b[0mengine\u001b[0m\u001b[0;34m=\u001b[0m\u001b[0mengine\u001b[0m\u001b[0;34m)\u001b[0m\u001b[0;34m\u001b[0m\u001b[0;34m\u001b[0m\u001b[0m\n\u001b[0m\u001b[1;32m    305\u001b[0m     \u001b[0;32melif\u001b[0m \u001b[0mengine\u001b[0m \u001b[0;32mand\u001b[0m \u001b[0mengine\u001b[0m \u001b[0;34m!=\u001b[0m \u001b[0mio\u001b[0m\u001b[0;34m.\u001b[0m\u001b[0mengine\u001b[0m\u001b[0;34m:\u001b[0m\u001b[0;34m\u001b[0m\u001b[0;34m\u001b[0m\u001b[0m\n\u001b[1;32m    306\u001b[0m         raise ValueError(\n",
      "\u001b[0;32m/Applications/anaconda3/lib/python3.7/site-packages/pandas/io/excel/_base.py\u001b[0m in \u001b[0;36m__init__\u001b[0;34m(self, io, engine)\u001b[0m\n\u001b[1;32m    819\u001b[0m         \u001b[0mself\u001b[0m\u001b[0;34m.\u001b[0m\u001b[0m_io\u001b[0m \u001b[0;34m=\u001b[0m \u001b[0mstringify_path\u001b[0m\u001b[0;34m(\u001b[0m\u001b[0mio\u001b[0m\u001b[0;34m)\u001b[0m\u001b[0;34m\u001b[0m\u001b[0;34m\u001b[0m\u001b[0m\n\u001b[1;32m    820\u001b[0m \u001b[0;34m\u001b[0m\u001b[0m\n\u001b[0;32m--> 821\u001b[0;31m         \u001b[0mself\u001b[0m\u001b[0;34m.\u001b[0m\u001b[0m_reader\u001b[0m \u001b[0;34m=\u001b[0m \u001b[0mself\u001b[0m\u001b[0;34m.\u001b[0m\u001b[0m_engines\u001b[0m\u001b[0;34m[\u001b[0m\u001b[0mengine\u001b[0m\u001b[0;34m]\u001b[0m\u001b[0;34m(\u001b[0m\u001b[0mself\u001b[0m\u001b[0;34m.\u001b[0m\u001b[0m_io\u001b[0m\u001b[0;34m)\u001b[0m\u001b[0;34m\u001b[0m\u001b[0;34m\u001b[0m\u001b[0m\n\u001b[0m\u001b[1;32m    822\u001b[0m \u001b[0;34m\u001b[0m\u001b[0m\n\u001b[1;32m    823\u001b[0m     \u001b[0;32mdef\u001b[0m \u001b[0m__fspath__\u001b[0m\u001b[0;34m(\u001b[0m\u001b[0mself\u001b[0m\u001b[0;34m)\u001b[0m\u001b[0;34m:\u001b[0m\u001b[0;34m\u001b[0m\u001b[0;34m\u001b[0m\u001b[0m\n",
      "\u001b[0;32m/Applications/anaconda3/lib/python3.7/site-packages/pandas/io/excel/_xlrd.py\u001b[0m in \u001b[0;36m__init__\u001b[0;34m(self, filepath_or_buffer)\u001b[0m\n\u001b[1;32m     19\u001b[0m         \u001b[0merr_msg\u001b[0m \u001b[0;34m=\u001b[0m \u001b[0;34m\"Install xlrd >= 1.0.0 for Excel support\"\u001b[0m\u001b[0;34m\u001b[0m\u001b[0;34m\u001b[0m\u001b[0m\n\u001b[1;32m     20\u001b[0m         \u001b[0mimport_optional_dependency\u001b[0m\u001b[0;34m(\u001b[0m\u001b[0;34m\"xlrd\"\u001b[0m\u001b[0;34m,\u001b[0m \u001b[0mextra\u001b[0m\u001b[0;34m=\u001b[0m\u001b[0merr_msg\u001b[0m\u001b[0;34m)\u001b[0m\u001b[0;34m\u001b[0m\u001b[0;34m\u001b[0m\u001b[0m\n\u001b[0;32m---> 21\u001b[0;31m         \u001b[0msuper\u001b[0m\u001b[0;34m(\u001b[0m\u001b[0;34m)\u001b[0m\u001b[0;34m.\u001b[0m\u001b[0m__init__\u001b[0m\u001b[0;34m(\u001b[0m\u001b[0mfilepath_or_buffer\u001b[0m\u001b[0;34m)\u001b[0m\u001b[0;34m\u001b[0m\u001b[0;34m\u001b[0m\u001b[0m\n\u001b[0m\u001b[1;32m     22\u001b[0m \u001b[0;34m\u001b[0m\u001b[0m\n\u001b[1;32m     23\u001b[0m     \u001b[0;34m@\u001b[0m\u001b[0mproperty\u001b[0m\u001b[0;34m\u001b[0m\u001b[0;34m\u001b[0m\u001b[0m\n",
      "\u001b[0;32m/Applications/anaconda3/lib/python3.7/site-packages/pandas/io/excel/_base.py\u001b[0m in \u001b[0;36m__init__\u001b[0;34m(self, filepath_or_buffer)\u001b[0m\n\u001b[1;32m    351\u001b[0m             \u001b[0mself\u001b[0m\u001b[0;34m.\u001b[0m\u001b[0mbook\u001b[0m \u001b[0;34m=\u001b[0m \u001b[0mself\u001b[0m\u001b[0;34m.\u001b[0m\u001b[0mload_workbook\u001b[0m\u001b[0;34m(\u001b[0m\u001b[0mfilepath_or_buffer\u001b[0m\u001b[0;34m)\u001b[0m\u001b[0;34m\u001b[0m\u001b[0;34m\u001b[0m\u001b[0m\n\u001b[1;32m    352\u001b[0m         \u001b[0;32melif\u001b[0m \u001b[0misinstance\u001b[0m\u001b[0;34m(\u001b[0m\u001b[0mfilepath_or_buffer\u001b[0m\u001b[0;34m,\u001b[0m \u001b[0mstr\u001b[0m\u001b[0;34m)\u001b[0m\u001b[0;34m:\u001b[0m\u001b[0;34m\u001b[0m\u001b[0;34m\u001b[0m\u001b[0m\n\u001b[0;32m--> 353\u001b[0;31m             \u001b[0mself\u001b[0m\u001b[0;34m.\u001b[0m\u001b[0mbook\u001b[0m \u001b[0;34m=\u001b[0m \u001b[0mself\u001b[0m\u001b[0;34m.\u001b[0m\u001b[0mload_workbook\u001b[0m\u001b[0;34m(\u001b[0m\u001b[0mfilepath_or_buffer\u001b[0m\u001b[0;34m)\u001b[0m\u001b[0;34m\u001b[0m\u001b[0;34m\u001b[0m\u001b[0m\n\u001b[0m\u001b[1;32m    354\u001b[0m         \u001b[0;32melif\u001b[0m \u001b[0misinstance\u001b[0m\u001b[0;34m(\u001b[0m\u001b[0mfilepath_or_buffer\u001b[0m\u001b[0;34m,\u001b[0m \u001b[0mbytes\u001b[0m\u001b[0;34m)\u001b[0m\u001b[0;34m:\u001b[0m\u001b[0;34m\u001b[0m\u001b[0;34m\u001b[0m\u001b[0m\n\u001b[1;32m    355\u001b[0m             \u001b[0mself\u001b[0m\u001b[0;34m.\u001b[0m\u001b[0mbook\u001b[0m \u001b[0;34m=\u001b[0m \u001b[0mself\u001b[0m\u001b[0;34m.\u001b[0m\u001b[0mload_workbook\u001b[0m\u001b[0;34m(\u001b[0m\u001b[0mBytesIO\u001b[0m\u001b[0;34m(\u001b[0m\u001b[0mfilepath_or_buffer\u001b[0m\u001b[0;34m)\u001b[0m\u001b[0;34m)\u001b[0m\u001b[0;34m\u001b[0m\u001b[0;34m\u001b[0m\u001b[0m\n",
      "\u001b[0;32m/Applications/anaconda3/lib/python3.7/site-packages/pandas/io/excel/_xlrd.py\u001b[0m in \u001b[0;36mload_workbook\u001b[0;34m(self, filepath_or_buffer)\u001b[0m\n\u001b[1;32m     34\u001b[0m             \u001b[0;32mreturn\u001b[0m \u001b[0mopen_workbook\u001b[0m\u001b[0;34m(\u001b[0m\u001b[0mfile_contents\u001b[0m\u001b[0;34m=\u001b[0m\u001b[0mdata\u001b[0m\u001b[0;34m)\u001b[0m\u001b[0;34m\u001b[0m\u001b[0;34m\u001b[0m\u001b[0m\n\u001b[1;32m     35\u001b[0m         \u001b[0;32melse\u001b[0m\u001b[0;34m:\u001b[0m\u001b[0;34m\u001b[0m\u001b[0;34m\u001b[0m\u001b[0m\n\u001b[0;32m---> 36\u001b[0;31m             \u001b[0;32mreturn\u001b[0m \u001b[0mopen_workbook\u001b[0m\u001b[0;34m(\u001b[0m\u001b[0mfilepath_or_buffer\u001b[0m\u001b[0;34m)\u001b[0m\u001b[0;34m\u001b[0m\u001b[0;34m\u001b[0m\u001b[0m\n\u001b[0m\u001b[1;32m     37\u001b[0m \u001b[0;34m\u001b[0m\u001b[0m\n\u001b[1;32m     38\u001b[0m     \u001b[0;34m@\u001b[0m\u001b[0mproperty\u001b[0m\u001b[0;34m\u001b[0m\u001b[0;34m\u001b[0m\u001b[0m\n",
      "\u001b[0;32m/Applications/anaconda3/lib/python3.7/site-packages/xlrd/__init__.py\u001b[0m in \u001b[0;36mopen_workbook\u001b[0;34m(filename, logfile, verbosity, use_mmap, file_contents, encoding_override, formatting_info, on_demand, ragged_rows)\u001b[0m\n\u001b[1;32m    109\u001b[0m     \u001b[0;32melse\u001b[0m\u001b[0;34m:\u001b[0m\u001b[0;34m\u001b[0m\u001b[0;34m\u001b[0m\u001b[0m\n\u001b[1;32m    110\u001b[0m         \u001b[0mfilename\u001b[0m \u001b[0;34m=\u001b[0m \u001b[0mos\u001b[0m\u001b[0;34m.\u001b[0m\u001b[0mpath\u001b[0m\u001b[0;34m.\u001b[0m\u001b[0mexpanduser\u001b[0m\u001b[0;34m(\u001b[0m\u001b[0mfilename\u001b[0m\u001b[0;34m)\u001b[0m\u001b[0;34m\u001b[0m\u001b[0;34m\u001b[0m\u001b[0m\n\u001b[0;32m--> 111\u001b[0;31m         \u001b[0;32mwith\u001b[0m \u001b[0mopen\u001b[0m\u001b[0;34m(\u001b[0m\u001b[0mfilename\u001b[0m\u001b[0;34m,\u001b[0m \u001b[0;34m\"rb\"\u001b[0m\u001b[0;34m)\u001b[0m \u001b[0;32mas\u001b[0m \u001b[0mf\u001b[0m\u001b[0;34m:\u001b[0m\u001b[0;34m\u001b[0m\u001b[0;34m\u001b[0m\u001b[0m\n\u001b[0m\u001b[1;32m    112\u001b[0m             \u001b[0mpeek\u001b[0m \u001b[0;34m=\u001b[0m \u001b[0mf\u001b[0m\u001b[0;34m.\u001b[0m\u001b[0mread\u001b[0m\u001b[0;34m(\u001b[0m\u001b[0mpeeksz\u001b[0m\u001b[0;34m)\u001b[0m\u001b[0;34m\u001b[0m\u001b[0;34m\u001b[0m\u001b[0m\n\u001b[1;32m    113\u001b[0m     \u001b[0;32mif\u001b[0m \u001b[0mpeek\u001b[0m \u001b[0;34m==\u001b[0m \u001b[0;34mb\"PK\\x03\\x04\"\u001b[0m\u001b[0;34m:\u001b[0m \u001b[0;31m# a ZIP file\u001b[0m\u001b[0;34m\u001b[0m\u001b[0;34m\u001b[0m\u001b[0m\n",
      "\u001b[0;31mFileNotFoundError\u001b[0m: [Errno 2] No such file or directory: 'house_sales_project.xlsx'"
     ]
    }
   ],
   "source": [
    "house_sales = pd.read_excel('house_sales_project.xlsx')"
   ]
  },
  {
   "cell_type": "markdown",
   "metadata": {
    "colab_type": "text",
    "id": "zkmykjFMsyBy"
   },
   "source": [
    "### Remove Outliers\n"
   ]
  },
  {
   "cell_type": "markdown",
   "metadata": {
    "colab_type": "text",
    "id": "BnG6zTYtmuWl"
   },
   "source": [
    "To enhance the predictive and descriptive capabilities of the linear regression model, we decided to filter the data to remove outliers.  For this dataset, we assume normal distibution of data.  The following code calculates the mean and standard deviations. The data is then stardardized and outliers that are 3 standard deviations are flagged.  This is first applied to the AdjSalePrice."
   ]
  },
  {
   "cell_type": "code",
   "execution_count": null,
   "metadata": {
    "colab": {},
    "colab_type": "code",
    "id": "akxaP0cvq37d"
   },
   "outputs": [],
   "source": [
    "# Create variables to help find standardized AdjSalePrice\n",
    "AdjSalePriceMean = round(house_sales['AdjSalePrice'].mean(),2)\n",
    "AdjSalePriceStd = round(house_sales['AdjSalePrice'].std(),2 )\n",
    "\n",
    "# Find standardized price\n",
    "house_sales['AdjSalePriceNormal'] = (house_sales['AdjSalePrice'] - AdjSalePriceMean)/AdjSalePriceStd\n",
    "\n",
    "# Determine potential outliers by testing standardized AdjSalePrice with +3 and -3 standard deviations\n",
    "potOutliersAdjSPr = house_sales['AdjSalePriceNormal'].where((house_sales['AdjSalePriceNormal'] > 3) | (house_sales['AdjSalePriceNormal'] < -3)).dropna().sort_values()\n",
    "\n",
    "# Create a Data Frame with only outliers\n",
    "outlierDFAdjSPr = house_sales.where(house_sales['AdjSalePrice'].isin(potOutliersAdjSPr)).dropna(how = 'all')"
   ]
  },
  {
   "cell_type": "markdown",
   "metadata": {
    "colab_type": "text",
    "id": "twzi7rFC4dGG"
   },
   "source": [
    "Now, we apply the same approach to LandVal."
   ]
  },
  {
   "cell_type": "code",
   "execution_count": null,
   "metadata": {
    "colab": {},
    "colab_type": "code",
    "id": "hD2SOPcvrATJ"
   },
   "outputs": [],
   "source": [
    "# Create variables to help find standardized LandVal\n",
    "LandValMean = round(house_sales['LandVal'].mean(),2)\n",
    "LandValStd = round(house_sales['LandVal'].std(),2 )\n",
    "\n",
    "# Find standardized LandVal\n",
    "house_sales['LandValNormal'] = (house_sales['LandVal'] - LandValMean)/LandValStd\n",
    "\n",
    "# Determine potential outliers by testing standardized LandVal with +3 and -3 standard deviations\n",
    "potOutliersLandVal = house_sales['LandValNormal'].where((house_sales['LandValNormal'] > 3) | (house_sales['LandValNormal'] < -3)).dropna().sort_values()\n",
    "\n",
    "# Create a Data Frame with only outliers\n",
    "outlierDFLandVal = house_sales.where(house_sales['LandVal'].isin(potOutliersLandVal)).dropna(how = 'all')"
   ]
  },
  {
   "cell_type": "markdown",
   "metadata": {
    "colab_type": "text",
    "id": "pc4A81AP4dGL"
   },
   "source": [
    "Now, we apply this approach to ImpsVal."
   ]
  },
  {
   "cell_type": "code",
   "execution_count": null,
   "metadata": {
    "colab": {},
    "colab_type": "code",
    "id": "PinD82nhrEo9"
   },
   "outputs": [],
   "source": [
    "# Create variables to help find standardized ImpsVal\n",
    "ImpsValMean = round(house_sales['ImpsVal'].mean(),2)\n",
    "ImpsValStd = round(house_sales['ImpsVal'].std(),2 )\n",
    "\n",
    "# Find standardized ImpsVal\n",
    "house_sales['ImpsValNormal'] = (house_sales['ImpsVal'] - ImpsValMean)/ImpsValStd\n",
    "\n",
    "# Determine potential outliers by testing standardized ImpsVal with +3 and -3 standard deviations\n",
    "potOutliersImpsVal = house_sales['ImpsValNormal'].where((house_sales['ImpsValNormal'] > 3) | (house_sales['ImpsValNormal'] < -3)).dropna().sort_values()\n",
    "\n",
    "# Create a Data Frame with only outliers\n",
    "outlierDFImpsVal = house_sales.where(house_sales['ImpsVal'].isin(potOutliersImpsVal)).dropna(how = 'all')"
   ]
  },
  {
   "cell_type": "markdown",
   "metadata": {
    "colab_type": "text",
    "id": "lZIRRK7l4dGO"
   },
   "source": [
    "Now, and again to SqFtLot."
   ]
  },
  {
   "cell_type": "code",
   "execution_count": null,
   "metadata": {
    "colab": {},
    "colab_type": "code",
    "id": "mt7AGws-rIiV"
   },
   "outputs": [],
   "source": [
    "# Create variables to help find standardized SqFtLot\n",
    "SqFtLotMean = round(house_sales['SqFtLot'].mean(),2)\n",
    "SqFtLotStd = round(house_sales['SqFtLot'].std(),2 )\n",
    "\n",
    "# Find standardized SqFtLot\n",
    "house_sales['SqFtLotNormal'] = (house_sales['SqFtLot'] - SqFtLotMean)/SqFtLotStd\n",
    "\n",
    "# Determine potential outliers by testing standardized SqFtLot with +3 and -3 standard deviations\n",
    "potOutliersSqFtLot = house_sales['SqFtLotNormal'].where((house_sales['SqFtLotNormal'] > 3) | (house_sales['SqFtLotNormal'] < -3)).dropna().sort_values()\n",
    "\n",
    "# Create a Data Frame with only outliers\n",
    "outlierDFSqFtLot = house_sales.where(house_sales['SqFtLot'].isin(potOutliersSqFtLot)).dropna(how = 'all')"
   ]
  },
  {
   "cell_type": "markdown",
   "metadata": {
    "colab_type": "text",
    "id": "VYpx7wRf4dGQ"
   },
   "source": [
    "And, finally, to SqFTotLiving."
   ]
  },
  {
   "cell_type": "code",
   "execution_count": null,
   "metadata": {
    "colab": {},
    "colab_type": "code",
    "id": "tQ5jJm8srM_r"
   },
   "outputs": [],
   "source": [
    "# Create variables to help find standardized SqFtTotLiving\n",
    "SqFtTotLivingMean = round(house_sales['SqFtTotLiving'].mean(),2)\n",
    "SqFtTotLivingStd = round(house_sales['SqFtTotLiving'].std(),2 )\n",
    "\n",
    "# Find standardized SqFtTotLiving\n",
    "house_sales['SqFtTotLivingNormal'] = (house_sales['SqFtTotLiving'] - SqFtTotLivingMean)/SqFtTotLivingStd\n",
    "\n",
    "# Determine potential outliers by testing standardized SqFtTotLiving with +3 and -3 standard deviations\n",
    "potOutliersSqFtTotLiving = house_sales['SqFtTotLivingNormal'].where((house_sales['SqFtTotLivingNormal'] > 3) | (house_sales['SqFtTotLivingNormal'] < -3)).dropna().sort_values()\n",
    "\n",
    "# Create a Data Frame with only outliers\n",
    "outlierDFSqFtTotLiving = house_sales.where(house_sales['SqFtTotLiving'].isin(potOutliersSqFtTotLiving)).dropna(how = 'all')"
   ]
  },
  {
   "cell_type": "markdown",
   "metadata": {
    "colab_type": "text",
    "id": "FtRG5Of84dGT"
   },
   "source": [
    "The above outlier datasets are used to purge their occurrences in the full dataset.  "
   ]
  },
  {
   "cell_type": "code",
   "execution_count": null,
   "metadata": {
    "colab": {},
    "colab_type": "code",
    "id": "4mzPyNg3rRLV"
   },
   "outputs": [],
   "source": [
    "# Create a Data Frame without outliers\n",
    "house_sales_NO = house_sales.where(~house_sales['AdjSalePriceNormal'].isin(potOutliersAdjSPr)).dropna(how = 'all')\n",
    "house_sales_NO = house_sales_NO.where(~house_sales['LandValNormal'].isin(potOutliersLandVal)).dropna(how = 'all')\n",
    "house_sales_NO = house_sales_NO.where(~house_sales['ImpsValNormal'].isin(potOutliersImpsVal)).dropna(how = 'all')\n",
    "house_sales_NO = house_sales_NO.where(~house_sales['SqFtLotNormal'].isin(potOutliersSqFtLot)).dropna(how = 'all')\n",
    "house_sales_NO = house_sales_NO.where(~house_sales['SqFtTotLiving'].isin(potOutliersSqFtTotLiving)).dropna(how = 'all')"
   ]
  },
  {
   "cell_type": "markdown",
   "metadata": {
    "colab_type": "text",
    "id": "P9ukIuPp4dGV"
   },
   "source": [
    "Additional 'hand editing' of the Bedrooms culls two extreme outliers of houses with 13 and 33 bedrooms.  Regressions noticeably improved with the removal of these two points."
   ]
  },
  {
   "cell_type": "code",
   "execution_count": null,
   "metadata": {
    "colab": {},
    "colab_type": "code",
    "id": "9nzyCk2w4dGW"
   },
   "outputs": [],
   "source": [
    "potOutliersBedrooms = house_sales['Bedrooms'].where((house_sales['Bedrooms'] > 11)).dropna()\n",
    "house_sales_NO = house_sales_NO.where(~house_sales['Bedrooms'].isin(potOutliersBedrooms)).dropna(how = 'all')"
   ]
  },
  {
   "cell_type": "markdown",
   "metadata": {
    "colab_type": "text",
    "id": "qBhpnELVM277"
   },
   "source": [
    "## Predictive Analytics Using Linear Regression Modeling of Controllable Variables"
   ]
  },
  {
   "cell_type": "markdown",
   "metadata": {
    "colab_type": "text",
    "id": "_IC5xxaoZTgO"
   },
   "source": [
    "### Step 1."
   ]
  },
  {
   "cell_type": "markdown",
   "metadata": {
    "colab_type": "text",
    "id": "MT49QMoV4dGZ"
   },
   "source": [
    "Create an X array that contains the independent features to train the model (SqFtTotLiving, Bathrooms, Bedrooms, BldgGrade, YrBuilt, ImpsVal) and a y array with the target or dependent variable (AdjSalePrice)."
   ]
  },
  {
   "cell_type": "code",
   "execution_count": null,
   "metadata": {
    "colab": {},
    "colab_type": "code",
    "id": "orVVsr7hK2q4"
   },
   "outputs": [],
   "source": [
    "X = house_sales_NO[['SqFtTotLiving', 'Bathrooms', 'Bedrooms', 'BldgGrade', 'YrBuilt', 'ImpsVal']]\n",
    "y = house_sales_NO['AdjSalePrice']"
   ]
  },
  {
   "cell_type": "markdown",
   "metadata": {
    "colab_type": "text",
    "id": "erEZD-e14dGc"
   },
   "source": [
    "### Step 2."
   ]
  },
  {
   "cell_type": "markdown",
   "metadata": {
    "colab_type": "text",
    "id": "GjNxIyc1ZsIc"
   },
   "source": [
    "Split the housing dataset into training and testing datasets.  Using 0.40 splits the data into 60%/40% traing and testing. "
   ]
  },
  {
   "cell_type": "code",
   "execution_count": null,
   "metadata": {
    "colab": {},
    "colab_type": "code",
    "id": "1q82XQGvLhbd"
   },
   "outputs": [],
   "source": [
    "X_train, X_test, y_train, y_test = train_test_split(X, y, test_size=.4, random_state=101)"
   ]
  },
  {
   "cell_type": "markdown",
   "metadata": {
    "colab_type": "text",
    "id": "GE2z9VpB4dGf"
   },
   "source": [
    "### Step 3."
   ]
  },
  {
   "cell_type": "markdown",
   "metadata": {
    "colab_type": "text",
    "id": "-t5USmzFaL39"
   },
   "source": [
    "Create a linear regression object/variable from the imported sklearn module and train the model with X (independent) and y (dependent) datas."
   ]
  },
  {
   "cell_type": "code",
   "execution_count": null,
   "metadata": {
    "colab": {
     "base_uri": "https://localhost:8080/",
     "height": 34
    },
    "colab_type": "code",
    "id": "TU3Qn-Q4MPqV",
    "outputId": "33082dc9-cace-4275-bdbd-2b4f85f2fde4"
   },
   "outputs": [],
   "source": [
    "lm = LinearRegression()\n",
    "lm.fit(X_train, y_train)"
   ]
  },
  {
   "cell_type": "markdown",
   "metadata": {
    "colab_type": "text",
    "id": "sj8UtKbN4dGi"
   },
   "source": [
    "### Step 4."
   ]
  },
  {
   "cell_type": "markdown",
   "metadata": {
    "colab_type": "text",
    "id": "DirjXRakabd2"
   },
   "source": [
    "Now, we can evaluate the linear regression model's intercept, 'alpha'."
   ]
  },
  {
   "cell_type": "code",
   "execution_count": null,
   "metadata": {
    "colab": {
     "base_uri": "https://localhost:8080/",
     "height": 34
    },
    "colab_type": "code",
    "id": "aExbGIS4MUII",
    "outputId": "615aa6d5-60a5-494c-ab96-bc7055e14aea"
   },
   "outputs": [],
   "source": [
    "lm.intercept_"
   ]
  },
  {
   "cell_type": "markdown",
   "metadata": {
    "colab_type": "text",
    "id": "OUCaywHBak-J"
   },
   "source": [
    "And the model coefficients for each independent variable, the 'beta's'."
   ]
  },
  {
   "cell_type": "code",
   "execution_count": null,
   "metadata": {
    "colab": {
     "base_uri": "https://localhost:8080/",
     "height": 51
    },
    "colab_type": "code",
    "id": "3WhFr-diMXkv",
    "outputId": "077736ca-3d87-44c7-bd39-a0d8d5c03568"
   },
   "outputs": [],
   "source": [
    "coeff = lm.coef_\n",
    "coeff"
   ]
  },
  {
   "cell_type": "markdown",
   "metadata": {
    "colab_type": "text",
    "id": "lwEbLH-GayjI"
   },
   "source": [
    "Create a DataFrame to more easily intepret the coefficients with column labels from our X variables."
   ]
  },
  {
   "cell_type": "code",
   "execution_count": null,
   "metadata": {
    "colab": {
     "base_uri": "https://localhost:8080/",
     "height": 235
    },
    "colab_type": "code",
    "id": "jOsdvbmKMbE6",
    "outputId": "9144b2ea-ba0d-4267-f5b3-958f11120929"
   },
   "outputs": [],
   "source": [
    "coeff_df = pd.DataFrame(lm.coef_, X.columns, columns=['Coeff'])\n",
    "coeff_df"
   ]
  },
  {
   "cell_type": "markdown",
   "metadata": {
    "colab_type": "text",
    "id": "gtwfqGYYgGp3"
   },
   "source": [
    "### **Interpreting the coefficients:**\n",
    "\n",
    "-  Holding all other features fixed, a 1 unit (1sqft) increase in SqFtTotLiving is associated with an increase of $61.65.\n",
    "\n",
    "  - **1,000sqft increase in living space is associated with an average AdjSalePrice increase of $616,500.**\n",
    "\n",
    "-  Holding all other features fixed, a 1 unit increase in Bathrooms is associated with an increase of $4,873.81.\n",
    "\n",
    "-  Holding all other features fixed, a 1 unit increase in Bedrooms is associated with a decrease of $15,749.13.\n",
    "\n",
    "-  Holding all other features fixed, a 1 unit increase in BuildingGrade is associated with an increase of $64,289.50 .\n",
    "\n",
    "-  Holding all other features fixed, a 1 unit increase in YrBuilt is associated with a decrease of $1,608.25.\n",
    "\n",
    "-  Holding all other features fixed, a 1 unit increase in ImpsVal is associated with an increase of $0.73."
   ]
  },
  {
   "cell_type": "markdown",
   "metadata": {
    "colab_type": "text",
    "id": "IMFhZvFY4dGr"
   },
   "source": [
    "### Step 5."
   ]
  },
  {
   "cell_type": "markdown",
   "metadata": {
    "colab_type": "text",
    "id": "NhZNfG7Eb3XS"
   },
   "source": [
    "To better understand the features of the linear regression modeling, let's revisit the independent variables."
   ]
  },
  {
   "cell_type": "code",
   "execution_count": null,
   "metadata": {
    "colab": {
     "base_uri": "https://localhost:8080/",
     "height": 136
    },
    "colab_type": "code",
    "id": "RGGdyEC4MgZt",
    "outputId": "4f1d1421-08ed-4f71-c911-0534f9a14119"
   },
   "outputs": [],
   "source": [
    "features = pd.Series(X_train.columns)\n",
    "features"
   ]
  },
  {
   "cell_type": "markdown",
   "metadata": {
    "colab_type": "text",
    "id": "G_wAjfgucGh4"
   },
   "source": [
    "For additional insight into the modeling, use f_regression to calculate F-statistics (t-stats) and p-values for our features.  More details can be found at https://scikit-learn.org/stable/modules/generated/sklearn.feature_selection.f_regression.html"
   ]
  },
  {
   "cell_type": "code",
   "execution_count": null,
   "metadata": {
    "colab": {
     "base_uri": "https://localhost:8080/",
     "height": 85
    },
    "colab_type": "code",
    "id": "KVJM7zHFMiEs",
    "outputId": "e3d40b25-b5a1-4af6-a1a6-48bdf0702223"
   },
   "outputs": [],
   "source": [
    "f_regression(X_train, y_train)"
   ]
  },
  {
   "cell_type": "markdown",
   "metadata": {
    "colab_type": "text",
    "id": "CohsnR1HcVbs"
   },
   "source": [
    "Create variables to store the F-stats and p-values in their own lists."
   ]
  },
  {
   "cell_type": "code",
   "execution_count": null,
   "metadata": {
    "colab": {},
    "colab_type": "code",
    "id": "E0NwhyrrMkWW"
   },
   "outputs": [],
   "source": [
    "fstats = f_regression(X_train, y_train)[0]\n",
    "pvalues = f_regression(X_train, y_train)[1]"
   ]
  },
  {
   "cell_type": "markdown",
   "metadata": {
    "colab_type": "text",
    "id": "aaK0t-_5cgdz"
   },
   "source": [
    "Create a feature dataframe to interpret the features by relative importance."
   ]
  },
  {
   "cell_type": "code",
   "execution_count": null,
   "metadata": {
    "colab": {
     "base_uri": "https://localhost:8080/",
     "height": 235
    },
    "colab_type": "code",
    "id": "iIgwfH3xMmFA",
    "outputId": "30c69e03-69e1-4dcf-a5ef-226d64f82306"
   },
   "outputs": [],
   "source": [
    "featureDF = pd.DataFrame({'Features': features, 'Coeff': coeff, 'Fstats': fstats, 'P Value':pvalues})\n",
    "featureDF.sort_values(by=['Fstats'], ascending=False)"
   ]
  },
  {
   "cell_type": "markdown",
   "metadata": {
    "colab_type": "text",
    "id": "T1ocJJ1x4dG1"
   },
   "source": [
    "### Step 6."
   ]
  },
  {
   "cell_type": "markdown",
   "metadata": {
    "colab_type": "text",
    "id": "k4pLgmQRc4xH"
   },
   "source": [
    "Now, create predictions from the linear regression modeling using the test dataset."
   ]
  },
  {
   "cell_type": "code",
   "execution_count": null,
   "metadata": {
    "colab": {
     "base_uri": "https://localhost:8080/",
     "height": 51
    },
    "colab_type": "code",
    "id": "jltb3gYZMoW0",
    "outputId": "a03098ea-46a9-41a8-ee90-97087538dd4c"
   },
   "outputs": [],
   "source": [
    "predictions = lm.predict(X_test)\n",
    "predictions"
   ]
  },
  {
   "cell_type": "markdown",
   "metadata": {
    "colab_type": "text",
    "id": "XJVdrMOgdQ-E"
   },
   "source": [
    "How well did the model perform?  Graphically, you can evaluate the model by plotting y_test vs predictions."
   ]
  },
  {
   "cell_type": "code",
   "execution_count": null,
   "metadata": {
    "colab": {
     "base_uri": "https://localhost:8080/",
     "height": 309
    },
    "colab_type": "code",
    "id": "mxu5odf4dIYV",
    "outputId": "416e1b14-72e9-4069-80da-f97802731f57"
   },
   "outputs": [],
   "source": [
    "plt.figure(figsize=(8,8))\n",
    "plt.scatter(y_test, predictions)\n",
    "plt.title(\"LR Model\")\n",
    "plt.xlabel(\"y_test\")\n",
    "plt.ylabel(\"predictions\")\n",
    "plt.show()"
   ]
  },
  {
   "cell_type": "markdown",
   "metadata": {
    "colab_type": "text",
    "id": "95A5CRZqeAPz"
   },
   "source": [
    "But, let's calculate the residuals, the difference between the actual and the predicted values and show the top 5 largest residuals."
   ]
  },
  {
   "cell_type": "code",
   "execution_count": null,
   "metadata": {
    "colab": {
     "base_uri": "https://localhost:8080/",
     "height": 119
    },
    "colab_type": "code",
    "id": "yZyXCIyzMqYr",
    "outputId": "33e468bb-dfb5-4381-d636-7f9b8be9cb1a"
   },
   "outputs": [],
   "source": [
    "residuals = y_test - predictions\n",
    "residuals.nlargest()"
   ]
  },
  {
   "cell_type": "markdown",
   "metadata": {
    "colab_type": "text",
    "id": "BZIo9Pqdeac5"
   },
   "source": [
    "Plotting these shows the distribution of the residuals."
   ]
  },
  {
   "cell_type": "code",
   "execution_count": null,
   "metadata": {
    "colab": {
     "base_uri": "https://localhost:8080/",
     "height": 313
    },
    "colab_type": "code",
    "id": "jIyay5Yrei2C",
    "outputId": "ec3d09fe-3af6-4cea-b64d-172ec2111996"
   },
   "outputs": [],
   "source": [
    "plt.figure(figsize=(6,6))\n",
    "sns.distplot(residuals, bins= 50)\n",
    "plt.title(\"LR Model\")\n",
    "plt.xlabel(\"y_test\")\n",
    "plt.ylabel(\"AdjSalePric residual\")"
   ]
  },
  {
   "cell_type": "markdown",
   "metadata": {
    "colab_type": "text",
    "id": "miAj_R1qfvFK"
   },
   "source": [
    "Looking at a small sampling, you can see how well the modeling performs at the individual sample level."
   ]
  },
  {
   "cell_type": "code",
   "execution_count": null,
   "metadata": {
    "colab": {
     "base_uri": "https://localhost:8080/",
     "height": 630
    },
    "colab_type": "code",
    "id": "5e_XX1MPwhJa",
    "outputId": "4ed40565-0526-4f6a-9cec-12de3a7c7c1f"
   },
   "outputs": [],
   "source": [
    "dfX = pd.DataFrame({'Actual': y_test, 'Predicted': predictions.flatten()})\n",
    "dfXhead = dfX.head(25)\n",
    "dfXhead.plot(kind='bar',figsize=(16,10))\n",
    "plt.grid(which='major', linestyle='-', linewidth='0.5', color='green')\n",
    "plt.grid(which='minor', linestyle=':', linewidth='0.5', color='black')\n",
    "plt.title(\"LR Model\")\n",
    "plt.xlabel(\"y_test\")\n",
    "plt.ylabel(\"AdjSalePric predictions\")\n",
    "plt.show()"
   ]
  },
  {
   "cell_type": "markdown",
   "metadata": {
    "colab_type": "text",
    "id": "JOFeukIh4dHC"
   },
   "source": [
    "### Step 7."
   ]
  },
  {
   "cell_type": "markdown",
   "metadata": {
    "colab_type": "text",
    "id": "_8qRMt5Zeod9"
   },
   "source": [
    "## Regression Evaluation Metrics\n",
    "\n",
    "\n",
    "Here are three common evaluation metrics for regression problems:\n",
    "\n",
    "**Mean Absolute Error** (MAE) is the mean of the absolute value of the errors:\n",
    "\n",
    "$$\\frac 1n\\sum_{i=1}^n|y_i-\\hat{y}_i|$$\n",
    "\n",
    "**Mean Squared Error** (MSE) is the mean of the squared errors:\n",
    "\n",
    "$$\\frac 1n\\sum_{i=1}^n(y_i-\\hat{y}_i)^2$$\n",
    "\n",
    "**Root Mean Squared Error** (RMSE) is the square root of the mean of the squared errors (MSE):\n",
    "\n",
    "$$\\sqrt{\\frac 1n\\sum_{i=1}^n(y_i-\\hat{y}_i)^2}$$\n",
    "\n",
    "Comparing these metrics:\n",
    "\n",
    "- **MAE** is the easiest to understand, because it's the average error.\n",
    "- **MSE** is more popular than MAE, because MSE \"punishes\" larger errors, which tends to be useful in the real world.\n",
    "- **RMSE** is even more popular than MSE, because RMSE is interpretable in the target variable (y) units.\n",
    "\n",
    "All of these are **loss functions**, because we want to minimize them."
   ]
  },
  {
   "cell_type": "markdown",
   "metadata": {
    "colab_type": "text",
    "id": "gJDrtRtDfNuH"
   },
   "source": [
    "Calculate the MAE, MSE, RMSE, and R^2 scores."
   ]
  },
  {
   "cell_type": "code",
   "execution_count": null,
   "metadata": {
    "colab": {
     "base_uri": "https://localhost:8080/",
     "height": 85
    },
    "colab_type": "code",
    "id": "Zjqw4wfUMvNC",
    "outputId": "181aa5e5-2f2b-4b0e-c4ab-4a40231c34ce"
   },
   "outputs": [],
   "source": [
    "print('MAE: ', round(metrics.mean_absolute_error(y_test, predictions), 2))\n",
    "print('MSE: ', round(metrics.mean_squared_error(y_test, predictions), 2))\n",
    "print('RMSE: ', round(np.sqrt(metrics.mean_squared_error(y_test, predictions)), 2))\n",
    "print('R Square: ', round(r2_score(y_test, predictions), 3))"
   ]
  },
  {
   "cell_type": "markdown",
   "metadata": {
    "colab_type": "text",
    "id": "aaxx5KZpNH06"
   },
   "source": [
    "## **Predictive Analytics Using Linear Regression for Uncontrollable Variables**"
   ]
  },
  {
   "cell_type": "markdown",
   "metadata": {
    "colab_type": "text",
    "id": "_1jBeUSS4dHG"
   },
   "source": [
    "### Step 1."
   ]
  },
  {
   "cell_type": "markdown",
   "metadata": {
    "colab_type": "text",
    "id": "QRuH7BAFJlk6"
   },
   "source": [
    "Create an X array that contains the independent features to train the model (SqFtLot, Traffic Noise, LandVal) and a y array with the target or dependent variable (AdjSalePrice)."
   ]
  },
  {
   "cell_type": "code",
   "execution_count": null,
   "metadata": {
    "colab": {},
    "colab_type": "code",
    "id": "_q5yLQm0NMtx"
   },
   "outputs": [],
   "source": [
    "X2 = house_sales_NO[['SqFtLot', 'TrafficNoise', 'LandVal']]\n",
    "y2 = house_sales_NO['AdjSalePrice']"
   ]
  },
  {
   "cell_type": "markdown",
   "metadata": {
    "colab_type": "text",
    "id": "D9zttkbJ4dHJ"
   },
   "source": [
    " ### Step 2."
   ]
  },
  {
   "cell_type": "markdown",
   "metadata": {
    "colab_type": "text",
    "id": "jAp23MwFJ2mT"
   },
   "source": [
    "Split the housing dataset into training and testing datasets.  Using 0.40 splits the data into 60%/40% traing and testing. "
   ]
  },
  {
   "cell_type": "code",
   "execution_count": null,
   "metadata": {
    "colab": {},
    "colab_type": "code",
    "id": "9CQhztV3NpWK"
   },
   "outputs": [],
   "source": [
    "X2_train, X2_test, y2_train, y2_test = train_test_split(X2, y2, test_size=.4, random_state=101)"
   ]
  },
  {
   "cell_type": "markdown",
   "metadata": {
    "colab_type": "text",
    "id": "8zcDSjFu4dHM"
   },
   "source": [
    "### Step 3."
   ]
  },
  {
   "cell_type": "markdown",
   "metadata": {
    "colab_type": "text",
    "id": "wif5g9_FKAUt"
   },
   "source": [
    "Create a linear regression object/variable."
   ]
  },
  {
   "cell_type": "code",
   "execution_count": null,
   "metadata": {
    "colab": {},
    "colab_type": "code",
    "id": "SSD5Hi0XNv1r"
   },
   "outputs": [],
   "source": [
    "lm2 = LinearRegression()"
   ]
  },
  {
   "cell_type": "markdown",
   "metadata": {
    "colab_type": "text",
    "id": "gLuv8Rm9KF4M"
   },
   "source": [
    "Train the model with X (independent) and y (dependent) datas."
   ]
  },
  {
   "cell_type": "code",
   "execution_count": null,
   "metadata": {
    "colab": {
     "base_uri": "https://localhost:8080/",
     "height": 34
    },
    "colab_type": "code",
    "id": "UPKwD8qSNyr4",
    "outputId": "9b494b4f-0e6c-4c01-a7c8-e69ded2e34a0"
   },
   "outputs": [],
   "source": [
    "lm2.fit(X2_train, y2_train)"
   ]
  },
  {
   "cell_type": "markdown",
   "metadata": {
    "colab_type": "text",
    "id": "fXL3C42s4dHR"
   },
   "source": [
    "### Step 4."
   ]
  },
  {
   "cell_type": "markdown",
   "metadata": {
    "colab_type": "text",
    "id": "tHRU743RKRvG"
   },
   "source": [
    "Now, we can evaluate the linear regression model's intercept, 'alpha'."
   ]
  },
  {
   "cell_type": "code",
   "execution_count": null,
   "metadata": {
    "colab": {
     "base_uri": "https://localhost:8080/",
     "height": 34
    },
    "colab_type": "code",
    "id": "OplDmvN4N1hu",
    "outputId": "fe0b219e-3576-4b82-b4d2-faeb4923acbb"
   },
   "outputs": [],
   "source": [
    "lm2.intercept_"
   ]
  },
  {
   "cell_type": "code",
   "execution_count": null,
   "metadata": {
    "colab": {},
    "colab_type": "code",
    "id": "rUuZNKqAKiv-"
   },
   "outputs": [],
   "source": [
    "And the model coefficients for each independent variable, the 'beta's'."
   ]
  },
  {
   "cell_type": "code",
   "execution_count": null,
   "metadata": {
    "colab": {},
    "colab_type": "code",
    "id": "JRDrbpCHN61T",
    "outputId": "bd92b6b6-691b-46fc-908a-2747b080c4ef"
   },
   "outputs": [],
   "source": [
    "coeff2 = lm2.coef_\n",
    "\n",
    "coeff2"
   ]
  },
  {
   "cell_type": "markdown",
   "metadata": {
    "colab_type": "text",
    "id": "uscizip0KlDu"
   },
   "source": [
    "Create a DataFrame to more easily intepret the coefficients with column labels from our X variables."
   ]
  },
  {
   "cell_type": "code",
   "execution_count": null,
   "metadata": {
    "colab": {},
    "colab_type": "code",
    "id": "GHjpnt20OFHu",
    "outputId": "685c2b1b-fd0a-4214-ef00-92dc2282e006"
   },
   "outputs": [],
   "source": [
    "coeff_df2 = pd.DataFrame(lm2.coef_, X2.columns, columns=['Coeff'])\n",
    "coeff_df2"
   ]
  },
  {
   "cell_type": "markdown",
   "metadata": {
    "colab_type": "text",
    "id": "-7qUOGcVLHVb"
   },
   "source": [
    "### **Interpreting the coefficients:**\n",
    "\n",
    "-  Holding all other features fixed, a 1 unit (1sqft) increase in SqFtTotLot is associated with an increase of $1.63.\n",
    "\n",
    "  - **1,000sqft increase in living space is associated with an average AdjSalePrice increase of $1,625.96.**\n",
    "\n",
    "-  Holding all other features fixed, a 1 unit increase in Traffic Noise is associated with a strong decrease of -$9,783.76.\n",
    "\n",
    "-  Holding all other features fixed, a 1 unit increase in LandVal is associated with an increase of $1.41."
   ]
  },
  {
   "cell_type": "markdown",
   "metadata": {
    "colab_type": "text",
    "id": "OIkcbWYr4dHb"
   },
   "source": [
    "### Step 5."
   ]
  },
  {
   "cell_type": "markdown",
   "metadata": {
    "colab_type": "text",
    "id": "9o7FY5nZL_Vd"
   },
   "source": [
    "To better understand the features of the linear regression modeling, let's revisit the independent valiables."
   ]
  },
  {
   "cell_type": "code",
   "execution_count": null,
   "metadata": {
    "colab": {},
    "colab_type": "code",
    "id": "h_LZvSd1OLn6",
    "outputId": "fc3c4f54-1ab0-41e2-e8e7-2368cbfb2dc4"
   },
   "outputs": [],
   "source": [
    "features2 = pd.Series(X2_train.columns)\n",
    "features2"
   ]
  },
  {
   "cell_type": "markdown",
   "metadata": {
    "colab_type": "text",
    "id": "kddcxO9fMiYY"
   },
   "source": [
    "For additional insight into the modeling, use f_regression to calculate F-statistics (t-stats) and p-values for our features.  More details can be found at https://scikit-learn.org/stable/modules/generated/sklearn.feature_selection.f_regression.html"
   ]
  },
  {
   "cell_type": "code",
   "execution_count": null,
   "metadata": {
    "colab": {},
    "colab_type": "code",
    "id": "cFA17pVGOPgf",
    "outputId": "0a9a5c82-69c4-40f9-863b-01ab9a5dd94c"
   },
   "outputs": [],
   "source": [
    "f_regression(X2_train, y2_train)"
   ]
  },
  {
   "cell_type": "markdown",
   "metadata": {
    "colab_type": "text",
    "id": "gpolqKVQM4pM"
   },
   "source": [
    "Create variables to store the F-stats and p-values in their own lists."
   ]
  },
  {
   "cell_type": "code",
   "execution_count": null,
   "metadata": {
    "colab": {},
    "colab_type": "code",
    "id": "JRJAZL8SOS2W"
   },
   "outputs": [],
   "source": [
    "fstats2 = f_regression(X2_train, y2_train)[0]\n",
    "pvalues2 = f_regression(X2_train, y2_train)[1]"
   ]
  },
  {
   "cell_type": "markdown",
   "metadata": {
    "colab_type": "text",
    "id": "DgZ5_GnKNFUx"
   },
   "source": [
    "Create a feature dataframe to interpret the features by relative importance."
   ]
  },
  {
   "cell_type": "code",
   "execution_count": null,
   "metadata": {
    "colab": {},
    "colab_type": "code",
    "id": "45MRU6L4OYFU",
    "outputId": "780c1a7a-a390-4d0f-a17b-5c7455e211ce"
   },
   "outputs": [],
   "source": [
    "featureDF2 = pd.DataFrame({'Features': features2, 'Coeff': coeff2, 'Fstats': fstats2, 'P Value':pvalues2})\n",
    "featureDF2.sort_values(by=['Fstats'], ascending=False)"
   ]
  },
  {
   "cell_type": "markdown",
   "metadata": {
    "colab_type": "text",
    "id": "9GQYfPkL4dHm"
   },
   "source": [
    "### Step 6."
   ]
  },
  {
   "cell_type": "markdown",
   "metadata": {
    "colab_type": "text",
    "id": "tE8kSVxqNPWL"
   },
   "source": [
    "Now, create predictions from the linear regression modeling using the test dataset."
   ]
  },
  {
   "cell_type": "code",
   "execution_count": null,
   "metadata": {
    "colab": {},
    "colab_type": "code",
    "id": "z09qjSamOcfo",
    "outputId": "b6f2145a-f52b-4385-85ee-2f8d8539a0df"
   },
   "outputs": [],
   "source": [
    "predictions2 = lm2.predict(X2_test)\n",
    "predictions2"
   ]
  },
  {
   "cell_type": "markdown",
   "metadata": {
    "colab_type": "text",
    "id": "Ib6GB0SrNbWP"
   },
   "source": [
    "How well did the model perform? Graphically, you can evaluate the model by plotting y_test vs predictions."
   ]
  },
  {
   "cell_type": "code",
   "execution_count": null,
   "metadata": {
    "colab": {},
    "colab_type": "code",
    "id": "lZ0qOfUcNlEm",
    "outputId": "58bab1d2-2051-4ad4-aecb-9d9ef16e2d6d"
   },
   "outputs": [],
   "source": [
    "plt.figure(figsize=(8,8))\n",
    "plt.scatter(y2_test, predictions2)\n",
    "plt.scatter(y_test, predictions)\n",
    "plt.title(\"LR Model\")\n",
    "plt.xlabel(\"y_test\")\n",
    "plt.ylabel(\"predictions\")\n",
    "plt.show()"
   ]
  },
  {
   "cell_type": "markdown",
   "metadata": {
    "colab_type": "text",
    "id": "i70U-L-UN4tJ"
   },
   "source": [
    "But, let's calculate the residuals, the difference between the actual and the predicted values and show the top 5 largest residuals."
   ]
  },
  {
   "cell_type": "code",
   "execution_count": null,
   "metadata": {
    "colab": {},
    "colab_type": "code",
    "id": "jwgkmSGHOgGq",
    "outputId": "4335682f-3ca1-47eb-8259-9c4fb63347fb"
   },
   "outputs": [],
   "source": [
    "residuals2 = y2_test - predictions2\n",
    "residuals2.nlargest()"
   ]
  },
  {
   "cell_type": "markdown",
   "metadata": {
    "colab_type": "text",
    "id": "EwfVaTW4ODCO"
   },
   "source": [
    "Plotting these show the distribution of the residuals."
   ]
  },
  {
   "cell_type": "code",
   "execution_count": null,
   "metadata": {
    "colab": {},
    "colab_type": "code",
    "id": "cfS2xBLiOCU_",
    "outputId": "8d03e05f-36e8-4163-9423-133684227e71"
   },
   "outputs": [],
   "source": [
    "plt.figure(figsize=(6,6))\n",
    "sns.distplot(residuals2, bins= 50)\n",
    "plt.title(\"LR Model\")\n",
    "plt.xlabel(\"y_test\")\n",
    "plt.ylabel(\"AdjSalePrice Residual\")"
   ]
  },
  {
   "cell_type": "markdown",
   "metadata": {
    "colab_type": "text",
    "id": "DZ-B2wVhOfYL"
   },
   "source": [
    "Looking at a small sampling, you can see how well the modeling performs at the individual level."
   ]
  },
  {
   "cell_type": "code",
   "execution_count": null,
   "metadata": {
    "colab": {},
    "colab_type": "code",
    "id": "5vC43Sikumdq",
    "outputId": "d79a99c0-04ef-449a-d6bb-de79d3846fa2"
   },
   "outputs": [],
   "source": [
    "dfX2 = pd.DataFrame({'Actual': y2_test, 'Predicted': predictions2.flatten()})\n",
    "dfX2head = dfX2.head(25)\n",
    "dfX2head.plot(kind='bar',figsize=(16,10))\n",
    "plt.grid(which='major', linestyle='-', linewidth='0.5', color='green')\n",
    "plt.grid(which='minor', linestyle=':', linewidth='0.5', color='black')\n",
    "plt.title(\"LR Model\")\n",
    "plt.xlabel(\"y_test\")\n",
    "plt.ylabel(\"AdjSalePric predictions\")\n",
    "plt.show()"
   ]
  },
  {
   "cell_type": "markdown",
   "metadata": {
    "colab_type": "text",
    "id": "8TllH4D64dH0"
   },
   "source": [
    "### Step 7."
   ]
  },
  {
   "cell_type": "markdown",
   "metadata": {
    "colab_type": "text",
    "id": "KcN37tIiOvi0"
   },
   "source": [
    "And, finally, calculate the MAE, MSE, RMSE, and R^2 scores."
   ]
  },
  {
   "cell_type": "code",
   "execution_count": null,
   "metadata": {
    "colab": {},
    "colab_type": "code",
    "id": "r5EHpvDnOkaC",
    "outputId": "8e7e4686-f0ca-4e7c-e128-83298dbda93e"
   },
   "outputs": [],
   "source": [
    "print('MAE: ', round(metrics.mean_absolute_error(y2_test, predictions2), 2))\n",
    "print('MSE: ', round(metrics.mean_squared_error(y2_test, predictions2), 2))\n",
    "print('RMSE: ', round(np.sqrt(metrics.mean_squared_error(y2_test, predictions2)), 2))\n",
    "print('R Square: ', round(r2_score(y2_test, predictions2), 3))"
   ]
  }
 ],
 "metadata": {
  "colab": {
   "collapsed_sections": [],
   "name": "Python_Project_Predictive_Analytics_Tutorials.ipynb",
   "provenance": []
  },
  "kernelspec": {
   "display_name": "Python 3",
   "language": "python",
   "name": "python3"
  },
  "language_info": {
   "codemirror_mode": {
    "name": "ipython",
    "version": 3
   },
   "file_extension": ".py",
   "mimetype": "text/x-python",
   "name": "python",
   "nbconvert_exporter": "python",
   "pygments_lexer": "ipython3",
   "version": "3.7.6"
  }
 },
 "nbformat": 4,
 "nbformat_minor": 1
}
